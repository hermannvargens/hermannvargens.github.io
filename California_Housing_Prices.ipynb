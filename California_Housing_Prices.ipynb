{
  "cells": [
    {
      "cell_type": "markdown",
      "metadata": {
        "id": "view-in-github",
        "colab_type": "text"
      },
      "source": [
        "<a href=\"https://colab.research.google.com/github/hermannvargens/hermannvargens.github.io/blob/main/California_Housing_Prices.ipynb\" target=\"_parent\"><img src=\"https://colab.research.google.com/assets/colab-badge.svg\" alt=\"Open In Colab\"/></a>"
      ]
    },
    {
      "cell_type": "markdown",
      "source": [
        "<h2>Índice</h2>\n",
        "\n",
        "<div class=\"alert alert-block alert-info\" style=\"margin-top: 20px\">\n",
        "<ul>\n",
        "    <li><a href=\"https://#identify_handle_missing_values\">Identify and handle missing values</a>\n",
        "        <ul>\n",
        "            <li><a href=\"https://#identify_missing_values\">Identify missing values</a></li>\n",
        "            <li><a href=\"https://#deal_missing_values\">Deal with missing values</a></li>\n",
        "            <li><a href=\"https://#correct_data_format\">Correct data format</a></li>\n",
        "        </ul>\n",
        "    </li>\n",
        "    <li><a href=\"https://#data_standardization\">Data standardization</a></li>\n",
        "    <li><a href=\"https://#data_normalization\">Data normalization (centering/scaling)</a></li>\n",
        "    <li><a href=\"https://#binning\">Binning</a></li>\n",
        "    <li><a href=\"https://#indicator\">Indicator variable</a></li>\n",
        "</ul>\n",
        "\n",
        "</div>\n",
        "\n",
        "<hr>"
      ],
      "metadata": {
        "id": "-gLtgk3RZti9"
      },
      "id": "-gLtgk3RZti9"
    },
    {
      "cell_type": "markdown",
      "source": [
        "<li><a href = 'https://#introducao'>Introdução</a>\n",
        "<li><a href = 'https://#coleta'>Coleta e descrição dos dados</a>\n",
        "<li><a href = 'https://#amostragem'>Amostragem</a>\n",
        "<li><a href = 'https://#eda'>Análise Exploratória dos Dados</a>\n",
        "<li><a href = 'https://#modelagem'>Modelagem</a>\n",
        "<li><a href = 'https://#avaliacao'>Avaliação no conjunto de testes</a>\n",
        "<li><a href = 'https://#conclusao'>Conclusão</a>\n",
        "<li><a href = 'https://#apendice_A'>Apẽndice A</a>\n",
        "<li><a href = 'https://#apendice_B'>Apẽndice B</a>\n"
      ],
      "metadata": {
        "id": "xAiUaddRbO05"
      },
      "id": "xAiUaddRbO05"
    },
    {
      "cell_type": "markdown",
      "source": [
        "#<h1 id=\"introducao\">1 Introdução</h1>"
      ],
      "metadata": {
        "id": "QdZ3foX9a9SX"
      },
      "id": "QdZ3foX9a9SX"
    },
    {
      "cell_type": "markdown",
      "source": [
        "Este projeto tem como objetivo analisar um dataset de preços de casas da Califórnia, nos anos 1990, e apresentar um modelo de previsão para os valores médios das casas."
      ],
      "metadata": {
        "id": "ltrUueFBQiFS"
      },
      "id": "ltrUueFBQiFS"
    },
    {
      "cell_type": "markdown",
      "id": "3645ae9f",
      "metadata": {
        "id": "3645ae9f"
      },
      "source": [
        "#<h1 id=\"coelta\">2 Coleta e descrição do dados</h1>"
      ]
    },
    {
      "cell_type": "code",
      "execution_count": null,
      "id": "b1f3bb3a",
      "metadata": {
        "id": "b1f3bb3a"
      },
      "outputs": [],
      "source": [
        "#Para cálculos e dataframe\n",
        "import pandas as pd\n",
        "import numpy as np\n",
        "\n",
        "#Para criação de gráficos\n",
        "%matplotlib inline\n",
        "import matplotlib.pyplot as plt\n",
        "import seaborn as sns\n",
        "from pandas.plotting import scatter_matrix\n",
        "\n",
        "#Para obter uma amostra estratificada, baseada na coluna income_cat\n",
        "from sklearn.model_selection import StratifiedShuffleSplit\n",
        "\n",
        "#Para substituir os valores ausentes\n",
        "from sklearn.impute import SimpleImputer\n",
        "\n",
        "#para transformar variáveis categóricas em numéricas\n",
        "from sklearn.preprocessing import OneHotEncoder\n",
        "\n",
        "#PAra criar pipelines\n",
        "from sklearn.pipeline import Pipeline\n",
        "\n",
        "#Para criar pipelines de pré-processamento\n",
        "\n",
        "from sklearn.compose import ColumnTransformer\n",
        "\n",
        "#Para realizar validação cruzada\n",
        "\n",
        "from sklearn.model_selection import cross_val_score\n",
        "\n",
        "#Para normalizar os dados\n",
        "\n",
        "from sklearn.preprocessing import StandardScaler\n",
        "\n",
        "#Para buscar uma melhor avaliação do modelo\n",
        "\n",
        "from sklearn.model_selection import GridSearchCV\n",
        "\n",
        "#Para avaliar o erro \n",
        "\n",
        "from sklearn.metrics import mean_squared_error"
      ]
    },
    {
      "cell_type": "markdown",
      "id": "aa963a9a",
      "metadata": {
        "id": "aa963a9a"
      },
      "source": [
        "Dados obtidos de: https://www.kaggle.com/datasets/camnugent/california-housing-prices"
      ]
    },
    {
      "cell_type": "code",
      "source": [
        "from google.colab import drive\n",
        "drive.mount('/content/drive')"
      ],
      "metadata": {
        "colab": {
          "base_uri": "https://localhost:8080/"
        },
        "id": "kMJgd0IUeifP",
        "outputId": "5a768bf6-2dec-4c72-fa43-44df300ed079"
      },
      "id": "kMJgd0IUeifP",
      "execution_count": null,
      "outputs": [
        {
          "output_type": "stream",
          "name": "stdout",
          "text": [
            "Mounted at /content/drive\n"
          ]
        }
      ]
    },
    {
      "cell_type": "code",
      "execution_count": null,
      "id": "68f848e9",
      "metadata": {
        "id": "68f848e9"
      },
      "outputs": [],
      "source": [
        "data = pd.read_csv(r'/content/drive/MyDrive/Colab Notebooks/Projetos/Datasets/housing/housing.csv')"
      ]
    },
    {
      "cell_type": "code",
      "execution_count": null,
      "id": "b62a4ef0",
      "metadata": {
        "colab": {
          "base_uri": "https://localhost:8080/",
          "height": 487
        },
        "id": "b62a4ef0",
        "outputId": "3811c935-fb53-4d7b-91af-218f75a475be"
      },
      "outputs": [
        {
          "output_type": "execute_result",
          "data": {
            "text/plain": [
              "       longitude  latitude  housing_median_age  total_rooms  total_bedrooms  \\\n",
              "0        -122.23     37.88                41.0        880.0           129.0   \n",
              "1        -122.22     37.86                21.0       7099.0          1106.0   \n",
              "2        -122.24     37.85                52.0       1467.0           190.0   \n",
              "3        -122.25     37.85                52.0       1274.0           235.0   \n",
              "4        -122.25     37.85                52.0       1627.0           280.0   \n",
              "...          ...       ...                 ...          ...             ...   \n",
              "20635    -121.09     39.48                25.0       1665.0           374.0   \n",
              "20636    -121.21     39.49                18.0        697.0           150.0   \n",
              "20637    -121.22     39.43                17.0       2254.0           485.0   \n",
              "20638    -121.32     39.43                18.0       1860.0           409.0   \n",
              "20639    -121.24     39.37                16.0       2785.0           616.0   \n",
              "\n",
              "       population  households  median_income  median_house_value  \\\n",
              "0           322.0       126.0         8.3252            452600.0   \n",
              "1          2401.0      1138.0         8.3014            358500.0   \n",
              "2           496.0       177.0         7.2574            352100.0   \n",
              "3           558.0       219.0         5.6431            341300.0   \n",
              "4           565.0       259.0         3.8462            342200.0   \n",
              "...           ...         ...            ...                 ...   \n",
              "20635       845.0       330.0         1.5603             78100.0   \n",
              "20636       356.0       114.0         2.5568             77100.0   \n",
              "20637      1007.0       433.0         1.7000             92300.0   \n",
              "20638       741.0       349.0         1.8672             84700.0   \n",
              "20639      1387.0       530.0         2.3886             89400.0   \n",
              "\n",
              "      ocean_proximity  \n",
              "0            NEAR BAY  \n",
              "1            NEAR BAY  \n",
              "2            NEAR BAY  \n",
              "3            NEAR BAY  \n",
              "4            NEAR BAY  \n",
              "...               ...  \n",
              "20635          INLAND  \n",
              "20636          INLAND  \n",
              "20637          INLAND  \n",
              "20638          INLAND  \n",
              "20639          INLAND  \n",
              "\n",
              "[20640 rows x 10 columns]"
            ],
            "text/html": [
              "\n",
              "  <div id=\"df-6df6586a-34e3-4233-a590-388cd7e1310c\">\n",
              "    <div class=\"colab-df-container\">\n",
              "      <div>\n",
              "<style scoped>\n",
              "    .dataframe tbody tr th:only-of-type {\n",
              "        vertical-align: middle;\n",
              "    }\n",
              "\n",
              "    .dataframe tbody tr th {\n",
              "        vertical-align: top;\n",
              "    }\n",
              "\n",
              "    .dataframe thead th {\n",
              "        text-align: right;\n",
              "    }\n",
              "</style>\n",
              "<table border=\"1\" class=\"dataframe\">\n",
              "  <thead>\n",
              "    <tr style=\"text-align: right;\">\n",
              "      <th></th>\n",
              "      <th>longitude</th>\n",
              "      <th>latitude</th>\n",
              "      <th>housing_median_age</th>\n",
              "      <th>total_rooms</th>\n",
              "      <th>total_bedrooms</th>\n",
              "      <th>population</th>\n",
              "      <th>households</th>\n",
              "      <th>median_income</th>\n",
              "      <th>median_house_value</th>\n",
              "      <th>ocean_proximity</th>\n",
              "    </tr>\n",
              "  </thead>\n",
              "  <tbody>\n",
              "    <tr>\n",
              "      <th>0</th>\n",
              "      <td>-122.23</td>\n",
              "      <td>37.88</td>\n",
              "      <td>41.0</td>\n",
              "      <td>880.0</td>\n",
              "      <td>129.0</td>\n",
              "      <td>322.0</td>\n",
              "      <td>126.0</td>\n",
              "      <td>8.3252</td>\n",
              "      <td>452600.0</td>\n",
              "      <td>NEAR BAY</td>\n",
              "    </tr>\n",
              "    <tr>\n",
              "      <th>1</th>\n",
              "      <td>-122.22</td>\n",
              "      <td>37.86</td>\n",
              "      <td>21.0</td>\n",
              "      <td>7099.0</td>\n",
              "      <td>1106.0</td>\n",
              "      <td>2401.0</td>\n",
              "      <td>1138.0</td>\n",
              "      <td>8.3014</td>\n",
              "      <td>358500.0</td>\n",
              "      <td>NEAR BAY</td>\n",
              "    </tr>\n",
              "    <tr>\n",
              "      <th>2</th>\n",
              "      <td>-122.24</td>\n",
              "      <td>37.85</td>\n",
              "      <td>52.0</td>\n",
              "      <td>1467.0</td>\n",
              "      <td>190.0</td>\n",
              "      <td>496.0</td>\n",
              "      <td>177.0</td>\n",
              "      <td>7.2574</td>\n",
              "      <td>352100.0</td>\n",
              "      <td>NEAR BAY</td>\n",
              "    </tr>\n",
              "    <tr>\n",
              "      <th>3</th>\n",
              "      <td>-122.25</td>\n",
              "      <td>37.85</td>\n",
              "      <td>52.0</td>\n",
              "      <td>1274.0</td>\n",
              "      <td>235.0</td>\n",
              "      <td>558.0</td>\n",
              "      <td>219.0</td>\n",
              "      <td>5.6431</td>\n",
              "      <td>341300.0</td>\n",
              "      <td>NEAR BAY</td>\n",
              "    </tr>\n",
              "    <tr>\n",
              "      <th>4</th>\n",
              "      <td>-122.25</td>\n",
              "      <td>37.85</td>\n",
              "      <td>52.0</td>\n",
              "      <td>1627.0</td>\n",
              "      <td>280.0</td>\n",
              "      <td>565.0</td>\n",
              "      <td>259.0</td>\n",
              "      <td>3.8462</td>\n",
              "      <td>342200.0</td>\n",
              "      <td>NEAR BAY</td>\n",
              "    </tr>\n",
              "    <tr>\n",
              "      <th>...</th>\n",
              "      <td>...</td>\n",
              "      <td>...</td>\n",
              "      <td>...</td>\n",
              "      <td>...</td>\n",
              "      <td>...</td>\n",
              "      <td>...</td>\n",
              "      <td>...</td>\n",
              "      <td>...</td>\n",
              "      <td>...</td>\n",
              "      <td>...</td>\n",
              "    </tr>\n",
              "    <tr>\n",
              "      <th>20635</th>\n",
              "      <td>-121.09</td>\n",
              "      <td>39.48</td>\n",
              "      <td>25.0</td>\n",
              "      <td>1665.0</td>\n",
              "      <td>374.0</td>\n",
              "      <td>845.0</td>\n",
              "      <td>330.0</td>\n",
              "      <td>1.5603</td>\n",
              "      <td>78100.0</td>\n",
              "      <td>INLAND</td>\n",
              "    </tr>\n",
              "    <tr>\n",
              "      <th>20636</th>\n",
              "      <td>-121.21</td>\n",
              "      <td>39.49</td>\n",
              "      <td>18.0</td>\n",
              "      <td>697.0</td>\n",
              "      <td>150.0</td>\n",
              "      <td>356.0</td>\n",
              "      <td>114.0</td>\n",
              "      <td>2.5568</td>\n",
              "      <td>77100.0</td>\n",
              "      <td>INLAND</td>\n",
              "    </tr>\n",
              "    <tr>\n",
              "      <th>20637</th>\n",
              "      <td>-121.22</td>\n",
              "      <td>39.43</td>\n",
              "      <td>17.0</td>\n",
              "      <td>2254.0</td>\n",
              "      <td>485.0</td>\n",
              "      <td>1007.0</td>\n",
              "      <td>433.0</td>\n",
              "      <td>1.7000</td>\n",
              "      <td>92300.0</td>\n",
              "      <td>INLAND</td>\n",
              "    </tr>\n",
              "    <tr>\n",
              "      <th>20638</th>\n",
              "      <td>-121.32</td>\n",
              "      <td>39.43</td>\n",
              "      <td>18.0</td>\n",
              "      <td>1860.0</td>\n",
              "      <td>409.0</td>\n",
              "      <td>741.0</td>\n",
              "      <td>349.0</td>\n",
              "      <td>1.8672</td>\n",
              "      <td>84700.0</td>\n",
              "      <td>INLAND</td>\n",
              "    </tr>\n",
              "    <tr>\n",
              "      <th>20639</th>\n",
              "      <td>-121.24</td>\n",
              "      <td>39.37</td>\n",
              "      <td>16.0</td>\n",
              "      <td>2785.0</td>\n",
              "      <td>616.0</td>\n",
              "      <td>1387.0</td>\n",
              "      <td>530.0</td>\n",
              "      <td>2.3886</td>\n",
              "      <td>89400.0</td>\n",
              "      <td>INLAND</td>\n",
              "    </tr>\n",
              "  </tbody>\n",
              "</table>\n",
              "<p>20640 rows × 10 columns</p>\n",
              "</div>\n",
              "      <button class=\"colab-df-convert\" onclick=\"convertToInteractive('df-6df6586a-34e3-4233-a590-388cd7e1310c')\"\n",
              "              title=\"Convert this dataframe to an interactive table.\"\n",
              "              style=\"display:none;\">\n",
              "        \n",
              "  <svg xmlns=\"http://www.w3.org/2000/svg\" height=\"24px\"viewBox=\"0 0 24 24\"\n",
              "       width=\"24px\">\n",
              "    <path d=\"M0 0h24v24H0V0z\" fill=\"none\"/>\n",
              "    <path d=\"M18.56 5.44l.94 2.06.94-2.06 2.06-.94-2.06-.94-.94-2.06-.94 2.06-2.06.94zm-11 1L8.5 8.5l.94-2.06 2.06-.94-2.06-.94L8.5 2.5l-.94 2.06-2.06.94zm10 10l.94 2.06.94-2.06 2.06-.94-2.06-.94-.94-2.06-.94 2.06-2.06.94z\"/><path d=\"M17.41 7.96l-1.37-1.37c-.4-.4-.92-.59-1.43-.59-.52 0-1.04.2-1.43.59L10.3 9.45l-7.72 7.72c-.78.78-.78 2.05 0 2.83L4 21.41c.39.39.9.59 1.41.59.51 0 1.02-.2 1.41-.59l7.78-7.78 2.81-2.81c.8-.78.8-2.07 0-2.86zM5.41 20L4 18.59l7.72-7.72 1.47 1.35L5.41 20z\"/>\n",
              "  </svg>\n",
              "      </button>\n",
              "      \n",
              "  <style>\n",
              "    .colab-df-container {\n",
              "      display:flex;\n",
              "      flex-wrap:wrap;\n",
              "      gap: 12px;\n",
              "    }\n",
              "\n",
              "    .colab-df-convert {\n",
              "      background-color: #E8F0FE;\n",
              "      border: none;\n",
              "      border-radius: 50%;\n",
              "      cursor: pointer;\n",
              "      display: none;\n",
              "      fill: #1967D2;\n",
              "      height: 32px;\n",
              "      padding: 0 0 0 0;\n",
              "      width: 32px;\n",
              "    }\n",
              "\n",
              "    .colab-df-convert:hover {\n",
              "      background-color: #E2EBFA;\n",
              "      box-shadow: 0px 1px 2px rgba(60, 64, 67, 0.3), 0px 1px 3px 1px rgba(60, 64, 67, 0.15);\n",
              "      fill: #174EA6;\n",
              "    }\n",
              "\n",
              "    [theme=dark] .colab-df-convert {\n",
              "      background-color: #3B4455;\n",
              "      fill: #D2E3FC;\n",
              "    }\n",
              "\n",
              "    [theme=dark] .colab-df-convert:hover {\n",
              "      background-color: #434B5C;\n",
              "      box-shadow: 0px 1px 3px 1px rgba(0, 0, 0, 0.15);\n",
              "      filter: drop-shadow(0px 1px 2px rgba(0, 0, 0, 0.3));\n",
              "      fill: #FFFFFF;\n",
              "    }\n",
              "  </style>\n",
              "\n",
              "      <script>\n",
              "        const buttonEl =\n",
              "          document.querySelector('#df-6df6586a-34e3-4233-a590-388cd7e1310c button.colab-df-convert');\n",
              "        buttonEl.style.display =\n",
              "          google.colab.kernel.accessAllowed ? 'block' : 'none';\n",
              "\n",
              "        async function convertToInteractive(key) {\n",
              "          const element = document.querySelector('#df-6df6586a-34e3-4233-a590-388cd7e1310c');\n",
              "          const dataTable =\n",
              "            await google.colab.kernel.invokeFunction('convertToInteractive',\n",
              "                                                     [key], {});\n",
              "          if (!dataTable) return;\n",
              "\n",
              "          const docLinkHtml = 'Like what you see? Visit the ' +\n",
              "            '<a target=\"_blank\" href=https://colab.research.google.com/notebooks/data_table.ipynb>data table notebook</a>'\n",
              "            + ' to learn more about interactive tables.';\n",
              "          element.innerHTML = '';\n",
              "          dataTable['output_type'] = 'display_data';\n",
              "          await google.colab.output.renderOutput(dataTable, element);\n",
              "          const docLink = document.createElement('div');\n",
              "          docLink.innerHTML = docLinkHtml;\n",
              "          element.appendChild(docLink);\n",
              "        }\n",
              "      </script>\n",
              "    </div>\n",
              "  </div>\n",
              "  "
            ]
          },
          "metadata": {},
          "execution_count": 4
        }
      ],
      "source": [
        "data"
      ]
    },
    {
      "cell_type": "markdown",
      "source": [
        "Cada linha representa um bairro da California."
      ],
      "metadata": {
        "id": "RXejvo4_7vxZ"
      },
      "id": "RXejvo4_7vxZ"
    },
    {
      "cell_type": "code",
      "execution_count": null,
      "id": "810d9c5d",
      "metadata": {
        "colab": {
          "base_uri": "https://localhost:8080/"
        },
        "id": "810d9c5d",
        "outputId": "829a1fcb-cce9-46a8-f297-39735cf187af"
      },
      "outputs": [
        {
          "output_type": "stream",
          "name": "stdout",
          "text": [
            "<class 'pandas.core.frame.DataFrame'>\n",
            "RangeIndex: 20640 entries, 0 to 20639\n",
            "Data columns (total 10 columns):\n",
            " #   Column              Non-Null Count  Dtype  \n",
            "---  ------              --------------  -----  \n",
            " 0   longitude           20640 non-null  float64\n",
            " 1   latitude            20640 non-null  float64\n",
            " 2   housing_median_age  20640 non-null  float64\n",
            " 3   total_rooms         20640 non-null  float64\n",
            " 4   total_bedrooms      20433 non-null  float64\n",
            " 5   population          20640 non-null  float64\n",
            " 6   households          20640 non-null  float64\n",
            " 7   median_income       20640 non-null  float64\n",
            " 8   median_house_value  20640 non-null  float64\n",
            " 9   ocean_proximity     20640 non-null  object \n",
            "dtypes: float64(9), object(1)\n",
            "memory usage: 1.6+ MB\n"
          ]
        }
      ],
      "source": [
        "data.info()"
      ]
    },
    {
      "cell_type": "markdown",
      "id": "41fe8347",
      "metadata": {
        "id": "41fe8347"
      },
      "source": [
        "**Dataset composto de 9 variáveis numéricas e 1 variável categórica:**\n",
        "\n",
        "**Numéricas:**\n",
        "\n",
        "* *longitude*: longitude da localização da região  \n",
        "* *latitude*: latitude da localização da região  \n",
        "* *housing_median_age*: idade média dos imóveis da região  \n",
        "* *total_rooms*: quantidade total de cômodos na região  \n",
        "* *total_bedrooms*: quantidade total de quartos na região  \n",
        "* *population*: população da região  \n",
        "* *households*: quantidade de domicílios na região  \n",
        "* *median_income*: renda média na região  \n",
        "* *median_house_value*:preço média da casa na região\n",
        "\n",
        "**Categórica**\n",
        "\n",
        "* *ocean_proximity*: proximidade do oceano\n"
      ]
    },
    {
      "cell_type": "code",
      "execution_count": null,
      "id": "99769fa7",
      "metadata": {
        "colab": {
          "base_uri": "https://localhost:8080/"
        },
        "id": "99769fa7",
        "outputId": "d2908ed1-61d4-41c7-b2fa-c80461b81fad"
      },
      "outputs": [
        {
          "output_type": "execute_result",
          "data": {
            "text/plain": [
              "longitude             0.000000\n",
              "latitude              0.000000\n",
              "housing_median_age    0.000000\n",
              "total_rooms           0.000000\n",
              "total_bedrooms        1.002907\n",
              "population            0.000000\n",
              "households            0.000000\n",
              "median_income         0.000000\n",
              "median_house_value    0.000000\n",
              "ocean_proximity       0.000000\n",
              "dtype: float64"
            ]
          },
          "metadata": {},
          "execution_count": 6
        }
      ],
      "source": [
        "data.isnull().sum()/data.shape[0]*100"
      ]
    },
    {
      "cell_type": "markdown",
      "id": "14ff3967",
      "metadata": {
        "id": "14ff3967"
      },
      "source": [
        "**Apenas 1% dos dados faltantes na coluna 'total_bedrooms'**"
      ]
    },
    {
      "cell_type": "code",
      "execution_count": null,
      "id": "8b59f3c7",
      "metadata": {
        "colab": {
          "base_uri": "https://localhost:8080/"
        },
        "id": "8b59f3c7",
        "outputId": "117ef6f7-a92f-4d60-e6da-e823b3ff9c58"
      },
      "outputs": [
        {
          "output_type": "execute_result",
          "data": {
            "text/plain": [
              "<1H OCEAN     9136\n",
              "INLAND        6551\n",
              "NEAR OCEAN    2658\n",
              "NEAR BAY      2290\n",
              "ISLAND           5\n",
              "Name: ocean_proximity, dtype: int64"
            ]
          },
          "metadata": {},
          "execution_count": 7
        }
      ],
      "source": [
        "data['ocean_proximity'].value_counts()"
      ]
    },
    {
      "cell_type": "markdown",
      "id": "0fad8f53",
      "metadata": {
        "id": "0fad8f53"
      },
      "source": [
        "**Há 5 categorias na coluna 'ocean_proximity'**"
      ]
    },
    {
      "cell_type": "markdown",
      "id": "f9b0325c",
      "metadata": {
        "id": "f9b0325c"
      },
      "source": [
        "# <h1 id='amostragem'> 3 Amostragem </h1>"
      ]
    },
    {
      "cell_type": "markdown",
      "id": "53bf8056",
      "metadata": {
        "id": "53bf8056"
      },
      "source": [
        "## 3.1 Correlação"
      ]
    },
    {
      "cell_type": "markdown",
      "id": "757aaa82",
      "metadata": {
        "id": "757aaa82"
      },
      "source": [
        "Vamos verificar se há alguma correlação forte de alguma variável e a variável target ('median_house_value'), a qual pode ser interessante observar se sua distribuição é normal."
      ]
    },
    {
      "cell_type": "code",
      "execution_count": null,
      "id": "1171fe67",
      "metadata": {
        "colab": {
          "base_uri": "https://localhost:8080/"
        },
        "id": "1171fe67",
        "outputId": "3a13e7f4-ab98-44a8-ce10-997e35aff03b"
      },
      "outputs": [
        {
          "output_type": "execute_result",
          "data": {
            "text/plain": [
              "median_house_value    1.000000\n",
              "median_income         0.688075\n",
              "total_rooms           0.134153\n",
              "housing_median_age    0.105623\n",
              "households            0.065843\n",
              "total_bedrooms        0.049686\n",
              "population           -0.024650\n",
              "longitude            -0.045967\n",
              "latitude             -0.144160\n",
              "Name: median_house_value, dtype: float64"
            ]
          },
          "metadata": {},
          "execution_count": 8
        }
      ],
      "source": [
        "data.corr()['median_house_value'].sort_values(ascending=False)"
      ]
    },
    {
      "cell_type": "markdown",
      "id": "1d702a64",
      "metadata": {
        "id": "1d702a64"
      },
      "source": [
        "Vemos que as colunas 'median_income', 'total_rooms', 'housing_median_age', 'households' e 'latitude', possuem a correlação linear mais forte. Vamos então ver de como elas se distribuem num gráfico de frequência, e sua relação com a variável target ('median_house_value')"
      ]
    },
    {
      "cell_type": "code",
      "execution_count": null,
      "id": "2f3a3a43",
      "metadata": {
        "colab": {
          "base_uri": "https://localhost:8080/"
        },
        "id": "2f3a3a43",
        "outputId": "f0a5ecb9-d7c7-4e04-c23c-7c39f435297f"
      },
      "outputs": [
        {
          "output_type": "execute_result",
          "data": {
            "text/plain": [
              "\"strong_corr = ['median_income', 'total_rooms', 'housing_median_age','latitude','median_house_value' ]\\nscatterplot_matrix = sns.PairGrid(data[strong_corr])\\nscatterplot_matrix.map_diag(sns.histplot)\\nscatterplot_matrix.map_offdiag(sns.scatterplot)\\nplt.show()\""
            ],
            "application/vnd.google.colaboratory.intrinsic+json": {
              "type": "string"
            }
          },
          "metadata": {},
          "execution_count": 9
        }
      ],
      "source": [
        "'''strong_corr = ['median_income', 'total_rooms', 'housing_median_age','latitude','median_house_value' ]\n",
        "scatterplot_matrix = sns.PairGrid(data[strong_corr])\n",
        "scatterplot_matrix.map_diag(sns.histplot)\n",
        "scatterplot_matrix.map_offdiag(sns.scatterplot)\n",
        "plt.show()'''\n"
      ]
    },
    {
      "cell_type": "markdown",
      "id": "e53c4487",
      "metadata": {
        "id": "e53c4487"
      },
      "source": [
        "Podemos observar que a coluna \"median_income\" tem uma das correlações mais fortes com 'median_house_value'.\n",
        "Vamos observar como ela está distribuída."
      ]
    },
    {
      "cell_type": "code",
      "execution_count": null,
      "id": "1de419b1",
      "metadata": {
        "colab": {
          "base_uri": "https://localhost:8080/"
        },
        "id": "1de419b1",
        "outputId": "1a4e4ac1-45bc-4488-d811-54ab1c8b1dcc"
      },
      "outputs": [
        {
          "output_type": "display_data",
          "data": {
            "text/plain": [
              "<Figure size 1080x432 with 2 Axes>"
            ],
            "image/png": "[encoded data removed]"
          },
          "metadata": {
            "needs_background": "light"
          }
        }
      ],
      "source": [
        "fig,ax = plt.subplots(1,2, figsize = (15,6))\n",
        "sns.histplot(data=data, x='median_income', ax=ax[0]).set(title='Distribuição da renda média')\n",
        "sns.scatterplot(data=data, x='median_income', y='median_house_value', hue='ocean_proximity', ax=ax[1]).set(title='Valor médio das casas x Renda média')\n",
        "plt.show()"
      ]
    },
    {
      "cell_type": "markdown",
      "id": "c64f3408",
      "metadata": {
        "id": "c64f3408"
      },
      "source": [
        "Assim, vamos separar o conjunto de dados em Dados de Treino (train_data) e Dados de Teste (test_data) antes de iniciar as análises, baseando a amostragem na estratificação da renda média (median_income), de forma que a amostra seja significativa do todo."
      ]
    },
    {
      "cell_type": "markdown",
      "id": "9411fe88",
      "metadata": {
        "id": "9411fe88"
      },
      "source": [
        "## 3.2 Amostragem estratificada"
      ]
    },
    {
      "cell_type": "markdown",
      "id": "9428c975",
      "metadata": {
        "id": "9428c975"
      },
      "source": [
        "Primeiramente, vamos categorizar os valores para a renda média (median_income)."
      ]
    },
    {
      "cell_type": "code",
      "execution_count": null,
      "id": "58e37d6a",
      "metadata": {
        "scrolled": true,
        "colab": {
          "base_uri": "https://localhost:8080/"
        },
        "id": "58e37d6a",
        "outputId": "746a7821-60d4-4b9e-970f-c628ec6bd186"
      },
      "outputs": [
        {
          "output_type": "display_data",
          "data": {
            "text/plain": [
              "<Figure size 432x288 with 1 Axes>"
            ],
            "image/png": "[encoded data removed]"
          },
          "metadata": {
            "needs_background": "light"
          }
        }
      ],
      "source": [
        "# 1 - Cria-se uma nova coluna que conterá a categoria de cada renda média (divide-se por 1.5 para reduzir o número de categorias)\n",
        "data['income_cat'] = np.ceil(data['median_income']/1.5)\n",
        "# 2 - Vamos criar apenas 5 categorias\n",
        "data['income_cat'] = data['income_cat'].where(data['income_cat']<5, 5.0)\n",
        "# 3 - Vamos visualizar o resultado da distribuição da nova coluna\n",
        "sns.histplot(data=data, x = 'income_cat')\n",
        "\n",
        "plt.text(6, 6000, 'Vemos que a distribuição se parece mais com uma curva Normal agora.', fontsize=12)\n",
        "plt.show()"
      ]
    },
    {
      "cell_type": "markdown",
      "id": "2eb16650",
      "metadata": {
        "id": "2eb16650"
      },
      "source": [
        "Vamos realizar o split, baseado na coluna 'income_cat', e em seguida, apagá-la."
      ]
    },
    {
      "cell_type": "code",
      "execution_count": null,
      "id": "84f5cec5",
      "metadata": {
        "colab": {
          "base_uri": "https://localhost:8080/"
        },
        "id": "84f5cec5",
        "outputId": "5deb9bb8-2b3c-49b3-9486-cceac4141f70"
      },
      "outputs": [
        {
          "output_type": "stream",
          "name": "stdout",
          "text": [
            "Dados de treino:(16512, 11)\n",
            "Dados de teste:(4128, 11)\n"
          ]
        }
      ],
      "source": [
        "split = StratifiedShuffleSplit(n_splits=1, test_size=0.2, random_state=42)\n",
        "\n",
        "for train_index, test_index in split.split(data, data[\"income_cat\"]):\n",
        "    train_set = data.loc[train_index]\n",
        "    test_set = data.loc[test_index]\n",
        "    \n",
        "print(f'Dados de treino:{train_set.shape}')\n",
        "print(f'Dados de teste:{test_set.shape}')"
      ]
    },
    {
      "cell_type": "code",
      "execution_count": null,
      "id": "094802cb",
      "metadata": {
        "id": "094802cb"
      },
      "outputs": [],
      "source": [
        "train_set.drop(columns=['income_cat'], inplace = True)\n",
        "test_set.drop(columns=['income_cat'], inplace = True)"
      ]
    },
    {
      "cell_type": "markdown",
      "id": "2a746e91",
      "metadata": {
        "id": "2a746e91"
      },
      "source": [
        "<h1>id='processamento'\n",
        "# 3 Pré-processamento dos dados"
      ]
    },
    {
      "cell_type": "markdown",
      "id": "ce9aef87",
      "metadata": {
        "id": "ce9aef87"
      },
      "source": [
        "Apenas para mostrar os procedimentos que serão realizados, vamos mostrar todas as etapas que serão feitas no pré-processamento.\n",
        "Em seguida, construiremos o Pipeline que será usado no pré-processamento."
      ]
    },
    {
      "cell_type": "code",
      "execution_count": null,
      "id": "d671116e",
      "metadata": {
        "colab": {
          "base_uri": "https://localhost:8080/"
        },
        "id": "d671116e",
        "outputId": "29d9673a-94de-4e09-94dc-91e727a86d4c"
      },
      "outputs": [
        {
          "output_type": "execute_result",
          "data": {
            "text/plain": [
              "['longitude',\n",
              " 'latitude',\n",
              " 'housing_median_age',\n",
              " 'total_rooms',\n",
              " 'total_bedrooms',\n",
              " 'population',\n",
              " 'median_income']"
            ]
          },
          "metadata": {},
          "execution_count": 14
        }
      ],
      "source": [
        "#Lista de variáveis numéricas\n",
        "num_var = ['longitude', 'latitude', 'housing_median_age', 'total_rooms', 'total_bedrooms', 'population', 'median_income']\n",
        "num_var"
      ]
    },
    {
      "cell_type": "code",
      "execution_count": null,
      "id": "3b8ca04c",
      "metadata": {
        "colab": {
          "base_uri": "https://localhost:8080/"
        },
        "id": "3b8ca04c",
        "outputId": "0d7a2f0c-ba32-4306-a250-e0a117db0c35"
      },
      "outputs": [
        {
          "output_type": "execute_result",
          "data": {
            "text/plain": [
              "['ocean_proximity']"
            ]
          },
          "metadata": {},
          "execution_count": 15
        }
      ],
      "source": [
        "#lista de variáveis categóricas\n",
        "cat_var = ['ocean_proximity']\n",
        "cat_var\n"
      ]
    },
    {
      "cell_type": "markdown",
      "id": "6b12644f",
      "metadata": {
        "id": "6b12644f"
      },
      "source": [
        "## 3.1 Variáveis numéricas"
      ]
    },
    {
      "cell_type": "markdown",
      "id": "9fe54b74",
      "metadata": {
        "id": "9fe54b74"
      },
      "source": [
        "Vamos primeiramente substituir os missing values nas variáveis numéricas, pelo valor da média. Neste caso, temos apenas  na coluna 'total_bedrooms'."
      ]
    },
    {
      "cell_type": "code",
      "execution_count": null,
      "id": "8ba1eb9d",
      "metadata": {
        "id": "8ba1eb9d",
        "colab": {
          "base_uri": "https://localhost:8080/",
          "height": 206
        },
        "outputId": "4eae78cb-2627-4219-fc7d-00c2be90cd1d"
      },
      "outputs": [
        {
          "output_type": "execute_result",
          "data": {
            "text/plain": [
              "   longitude  latitude  housing_median_age  total_rooms  total_bedrooms  \\\n",
              "0    -121.46     38.52                29.0       3873.0           797.0   \n",
              "1    -117.23     33.09                 7.0       5320.0           855.0   \n",
              "2    -119.04     35.37                44.0       1618.0           310.0   \n",
              "3    -117.13     32.75                24.0       1877.0           519.0   \n",
              "4    -118.70     34.28                27.0       3536.0           646.0   \n",
              "\n",
              "   population  median_income  \n",
              "0      2237.0         2.1736  \n",
              "1      2015.0         6.3373  \n",
              "2       667.0         2.8750  \n",
              "3       898.0         2.2264  \n",
              "4      1837.0         4.4964  "
            ],
            "text/html": [
              "\n",
              "  <div id=\"df-67ba731e-65b6-46cd-9d07-7ee9ba8687c3\">\n",
              "    <div class=\"colab-df-container\">\n",
              "      <div>\n",
              "<style scoped>\n",
              "    .dataframe tbody tr th:only-of-type {\n",
              "        vertical-align: middle;\n",
              "    }\n",
              "\n",
              "    .dataframe tbody tr th {\n",
              "        vertical-align: top;\n",
              "    }\n",
              "\n",
              "    .dataframe thead th {\n",
              "        text-align: right;\n",
              "    }\n",
              "</style>\n",
              "<table border=\"1\" class=\"dataframe\">\n",
              "  <thead>\n",
              "    <tr style=\"text-align: right;\">\n",
              "      <th></th>\n",
              "      <th>longitude</th>\n",
              "      <th>latitude</th>\n",
              "      <th>housing_median_age</th>\n",
              "      <th>total_rooms</th>\n",
              "      <th>total_bedrooms</th>\n",
              "      <th>population</th>\n",
              "      <th>median_income</th>\n",
              "    </tr>\n",
              "  </thead>\n",
              "  <tbody>\n",
              "    <tr>\n",
              "      <th>0</th>\n",
              "      <td>-121.46</td>\n",
              "      <td>38.52</td>\n",
              "      <td>29.0</td>\n",
              "      <td>3873.0</td>\n",
              "      <td>797.0</td>\n",
              "      <td>2237.0</td>\n",
              "      <td>2.1736</td>\n",
              "    </tr>\n",
              "    <tr>\n",
              "      <th>1</th>\n",
              "      <td>-117.23</td>\n",
              "      <td>33.09</td>\n",
              "      <td>7.0</td>\n",
              "      <td>5320.0</td>\n",
              "      <td>855.0</td>\n",
              "      <td>2015.0</td>\n",
              "      <td>6.3373</td>\n",
              "    </tr>\n",
              "    <tr>\n",
              "      <th>2</th>\n",
              "      <td>-119.04</td>\n",
              "      <td>35.37</td>\n",
              "      <td>44.0</td>\n",
              "      <td>1618.0</td>\n",
              "      <td>310.0</td>\n",
              "      <td>667.0</td>\n",
              "      <td>2.8750</td>\n",
              "    </tr>\n",
              "    <tr>\n",
              "      <th>3</th>\n",
              "      <td>-117.13</td>\n",
              "      <td>32.75</td>\n",
              "      <td>24.0</td>\n",
              "      <td>1877.0</td>\n",
              "      <td>519.0</td>\n",
              "      <td>898.0</td>\n",
              "      <td>2.2264</td>\n",
              "    </tr>\n",
              "    <tr>\n",
              "      <th>4</th>\n",
              "      <td>-118.70</td>\n",
              "      <td>34.28</td>\n",
              "      <td>27.0</td>\n",
              "      <td>3536.0</td>\n",
              "      <td>646.0</td>\n",
              "      <td>1837.0</td>\n",
              "      <td>4.4964</td>\n",
              "    </tr>\n",
              "  </tbody>\n",
              "</table>\n",
              "</div>\n",
              "      <button class=\"colab-df-convert\" onclick=\"convertToInteractive('df-67ba731e-65b6-46cd-9d07-7ee9ba8687c3')\"\n",
              "              title=\"Convert this dataframe to an interactive table.\"\n",
              "              style=\"display:none;\">\n",
              "        \n",
              "  <svg xmlns=\"http://www.w3.org/2000/svg\" height=\"24px\"viewBox=\"0 0 24 24\"\n",
              "       width=\"24px\">\n",
              "    <path d=\"M0 0h24v24H0V0z\" fill=\"none\"/>\n",
              "    <path d=\"M18.56 5.44l.94 2.06.94-2.06 2.06-.94-2.06-.94-.94-2.06-.94 2.06-2.06.94zm-11 1L8.5 8.5l.94-2.06 2.06-.94-2.06-.94L8.5 2.5l-.94 2.06-2.06.94zm10 10l.94 2.06.94-2.06 2.06-.94-2.06-.94-.94-2.06-.94 2.06-2.06.94z\"/><path d=\"M17.41 7.96l-1.37-1.37c-.4-.4-.92-.59-1.43-.59-.52 0-1.04.2-1.43.59L10.3 9.45l-7.72 7.72c-.78.78-.78 2.05 0 2.83L4 21.41c.39.39.9.59 1.41.59.51 0 1.02-.2 1.41-.59l7.78-7.78 2.81-2.81c.8-.78.8-2.07 0-2.86zM5.41 20L4 18.59l7.72-7.72 1.47 1.35L5.41 20z\"/>\n",
              "  </svg>\n",
              "      </button>\n",
              "      \n",
              "  <style>\n",
              "    .colab-df-container {\n",
              "      display:flex;\n",
              "      flex-wrap:wrap;\n",
              "      gap: 12px;\n",
              "    }\n",
              "\n",
              "    .colab-df-convert {\n",
              "      background-color: #E8F0FE;\n",
              "      border: none;\n",
              "      border-radius: 50%;\n",
              "      cursor: pointer;\n",
              "      display: none;\n",
              "      fill: #1967D2;\n",
              "      height: 32px;\n",
              "      padding: 0 0 0 0;\n",
              "      width: 32px;\n",
              "    }\n",
              "\n",
              "    .colab-df-convert:hover {\n",
              "      background-color: #E2EBFA;\n",
              "      box-shadow: 0px 1px 2px rgba(60, 64, 67, 0.3), 0px 1px 3px 1px rgba(60, 64, 67, 0.15);\n",
              "      fill: #174EA6;\n",
              "    }\n",
              "\n",
              "    [theme=dark] .colab-df-convert {\n",
              "      background-color: #3B4455;\n",
              "      fill: #D2E3FC;\n",
              "    }\n",
              "\n",
              "    [theme=dark] .colab-df-convert:hover {\n",
              "      background-color: #434B5C;\n",
              "      box-shadow: 0px 1px 3px 1px rgba(0, 0, 0, 0.15);\n",
              "      filter: drop-shadow(0px 1px 2px rgba(0, 0, 0, 0.3));\n",
              "      fill: #FFFFFF;\n",
              "    }\n",
              "  </style>\n",
              "\n",
              "      <script>\n",
              "        const buttonEl =\n",
              "          document.querySelector('#df-67ba731e-65b6-46cd-9d07-7ee9ba8687c3 button.colab-df-convert');\n",
              "        buttonEl.style.display =\n",
              "          google.colab.kernel.accessAllowed ? 'block' : 'none';\n",
              "\n",
              "        async function convertToInteractive(key) {\n",
              "          const element = document.querySelector('#df-67ba731e-65b6-46cd-9d07-7ee9ba8687c3');\n",
              "          const dataTable =\n",
              "            await google.colab.kernel.invokeFunction('convertToInteractive',\n",
              "                                                     [key], {});\n",
              "          if (!dataTable) return;\n",
              "\n",
              "          const docLinkHtml = 'Like what you see? Visit the ' +\n",
              "            '<a target=\"_blank\" href=https://colab.research.google.com/notebooks/data_table.ipynb>data table notebook</a>'\n",
              "            + ' to learn more about interactive tables.';\n",
              "          element.innerHTML = '';\n",
              "          dataTable['output_type'] = 'display_data';\n",
              "          await google.colab.output.renderOutput(dataTable, element);\n",
              "          const docLink = document.createElement('div');\n",
              "          docLink.innerHTML = docLinkHtml;\n",
              "          element.appendChild(docLink);\n",
              "        }\n",
              "      </script>\n",
              "    </div>\n",
              "  </div>\n",
              "  "
            ]
          },
          "metadata": {},
          "execution_count": 16
        }
      ],
      "source": [
        "imputer = SimpleImputer(strategy='median')\n",
        "\n",
        "train_set_num = imputer.fit_transform(train_set[num_var])\n",
        "\n",
        "train_set_num = pd.DataFrame(train_set_num, columns = num_var)\n",
        "train_set_num.head()"
      ]
    },
    {
      "cell_type": "markdown",
      "id": "7cc33f24",
      "metadata": {
        "id": "7cc33f24"
      },
      "source": [
        "## 3.2 Variáveis categóricas"
      ]
    },
    {
      "cell_type": "markdown",
      "id": "ad33eefe",
      "metadata": {
        "id": "ad33eefe"
      },
      "source": [
        "Vamos transformar a coluna de variáveis categóricas, usando o One Hot Encodder:"
      ]
    },
    {
      "cell_type": "code",
      "execution_count": null,
      "id": "65d9ffbd",
      "metadata": {
        "id": "65d9ffbd",
        "colab": {
          "base_uri": "https://localhost:8080/",
          "height": 206
        },
        "outputId": "9f24a7ed-e4d5-4997-e666-aac65e484bbc"
      },
      "outputs": [
        {
          "output_type": "execute_result",
          "data": {
            "text/plain": [
              "   <1H OCEAN  INLAND  ISLAND  NEAR BAY  NEAR OCEAN\n",
              "0        0.0     1.0     0.0       0.0         0.0\n",
              "1        0.0     0.0     0.0       0.0         1.0\n",
              "2        0.0     1.0     0.0       0.0         0.0\n",
              "3        0.0     0.0     0.0       0.0         1.0\n",
              "4        1.0     0.0     0.0       0.0         0.0"
            ],
            "text/html": [
              "\n",
              "  <div id=\"df-df02a445-e302-41aa-8173-dbcd2cb6f3e7\">\n",
              "    <div class=\"colab-df-container\">\n",
              "      <div>\n",
              "<style scoped>\n",
              "    .dataframe tbody tr th:only-of-type {\n",
              "        vertical-align: middle;\n",
              "    }\n",
              "\n",
              "    .dataframe tbody tr th {\n",
              "        vertical-align: top;\n",
              "    }\n",
              "\n",
              "    .dataframe thead th {\n",
              "        text-align: right;\n",
              "    }\n",
              "</style>\n",
              "<table border=\"1\" class=\"dataframe\">\n",
              "  <thead>\n",
              "    <tr style=\"text-align: right;\">\n",
              "      <th></th>\n",
              "      <th>&lt;1H OCEAN</th>\n",
              "      <th>INLAND</th>\n",
              "      <th>ISLAND</th>\n",
              "      <th>NEAR BAY</th>\n",
              "      <th>NEAR OCEAN</th>\n",
              "    </tr>\n",
              "  </thead>\n",
              "  <tbody>\n",
              "    <tr>\n",
              "      <th>0</th>\n",
              "      <td>0.0</td>\n",
              "      <td>1.0</td>\n",
              "      <td>0.0</td>\n",
              "      <td>0.0</td>\n",
              "      <td>0.0</td>\n",
              "    </tr>\n",
              "    <tr>\n",
              "      <th>1</th>\n",
              "      <td>0.0</td>\n",
              "      <td>0.0</td>\n",
              "      <td>0.0</td>\n",
              "      <td>0.0</td>\n",
              "      <td>1.0</td>\n",
              "    </tr>\n",
              "    <tr>\n",
              "      <th>2</th>\n",
              "      <td>0.0</td>\n",
              "      <td>1.0</td>\n",
              "      <td>0.0</td>\n",
              "      <td>0.0</td>\n",
              "      <td>0.0</td>\n",
              "    </tr>\n",
              "    <tr>\n",
              "      <th>3</th>\n",
              "      <td>0.0</td>\n",
              "      <td>0.0</td>\n",
              "      <td>0.0</td>\n",
              "      <td>0.0</td>\n",
              "      <td>1.0</td>\n",
              "    </tr>\n",
              "    <tr>\n",
              "      <th>4</th>\n",
              "      <td>1.0</td>\n",
              "      <td>0.0</td>\n",
              "      <td>0.0</td>\n",
              "      <td>0.0</td>\n",
              "      <td>0.0</td>\n",
              "    </tr>\n",
              "  </tbody>\n",
              "</table>\n",
              "</div>\n",
              "      <button class=\"colab-df-convert\" onclick=\"convertToInteractive('df-df02a445-e302-41aa-8173-dbcd2cb6f3e7')\"\n",
              "              title=\"Convert this dataframe to an interactive table.\"\n",
              "              style=\"display:none;\">\n",
              "        \n",
              "  <svg xmlns=\"http://www.w3.org/2000/svg\" height=\"24px\"viewBox=\"0 0 24 24\"\n",
              "       width=\"24px\">\n",
              "    <path d=\"M0 0h24v24H0V0z\" fill=\"none\"/>\n",
              "    <path d=\"M18.56 5.44l.94 2.06.94-2.06 2.06-.94-2.06-.94-.94-2.06-.94 2.06-2.06.94zm-11 1L8.5 8.5l.94-2.06 2.06-.94-2.06-.94L8.5 2.5l-.94 2.06-2.06.94zm10 10l.94 2.06.94-2.06 2.06-.94-2.06-.94-.94-2.06-.94 2.06-2.06.94z\"/><path d=\"M17.41 7.96l-1.37-1.37c-.4-.4-.92-.59-1.43-.59-.52 0-1.04.2-1.43.59L10.3 9.45l-7.72 7.72c-.78.78-.78 2.05 0 2.83L4 21.41c.39.39.9.59 1.41.59.51 0 1.02-.2 1.41-.59l7.78-7.78 2.81-2.81c.8-.78.8-2.07 0-2.86zM5.41 20L4 18.59l7.72-7.72 1.47 1.35L5.41 20z\"/>\n",
              "  </svg>\n",
              "      </button>\n",
              "      \n",
              "  <style>\n",
              "    .colab-df-container {\n",
              "      display:flex;\n",
              "      flex-wrap:wrap;\n",
              "      gap: 12px;\n",
              "    }\n",
              "\n",
              "    .colab-df-convert {\n",
              "      background-color: #E8F0FE;\n",
              "      border: none;\n",
              "      border-radius: 50%;\n",
              "      cursor: pointer;\n",
              "      display: none;\n",
              "      fill: #1967D2;\n",
              "      height: 32px;\n",
              "      padding: 0 0 0 0;\n",
              "      width: 32px;\n",
              "    }\n",
              "\n",
              "    .colab-df-convert:hover {\n",
              "      background-color: #E2EBFA;\n",
              "      box-shadow: 0px 1px 2px rgba(60, 64, 67, 0.3), 0px 1px 3px 1px rgba(60, 64, 67, 0.15);\n",
              "      fill: #174EA6;\n",
              "    }\n",
              "\n",
              "    [theme=dark] .colab-df-convert {\n",
              "      background-color: #3B4455;\n",
              "      fill: #D2E3FC;\n",
              "    }\n",
              "\n",
              "    [theme=dark] .colab-df-convert:hover {\n",
              "      background-color: #434B5C;\n",
              "      box-shadow: 0px 1px 3px 1px rgba(0, 0, 0, 0.15);\n",
              "      filter: drop-shadow(0px 1px 2px rgba(0, 0, 0, 0.3));\n",
              "      fill: #FFFFFF;\n",
              "    }\n",
              "  </style>\n",
              "\n",
              "      <script>\n",
              "        const buttonEl =\n",
              "          document.querySelector('#df-df02a445-e302-41aa-8173-dbcd2cb6f3e7 button.colab-df-convert');\n",
              "        buttonEl.style.display =\n",
              "          google.colab.kernel.accessAllowed ? 'block' : 'none';\n",
              "\n",
              "        async function convertToInteractive(key) {\n",
              "          const element = document.querySelector('#df-df02a445-e302-41aa-8173-dbcd2cb6f3e7');\n",
              "          const dataTable =\n",
              "            await google.colab.kernel.invokeFunction('convertToInteractive',\n",
              "                                                     [key], {});\n",
              "          if (!dataTable) return;\n",
              "\n",
              "          const docLinkHtml = 'Like what you see? Visit the ' +\n",
              "            '<a target=\"_blank\" href=https://colab.research.google.com/notebooks/data_table.ipynb>data table notebook</a>'\n",
              "            + ' to learn more about interactive tables.';\n",
              "          element.innerHTML = '';\n",
              "          dataTable['output_type'] = 'display_data';\n",
              "          await google.colab.output.renderOutput(dataTable, element);\n",
              "          const docLink = document.createElement('div');\n",
              "          docLink.innerHTML = docLinkHtml;\n",
              "          element.appendChild(docLink);\n",
              "        }\n",
              "      </script>\n",
              "    </div>\n",
              "  </div>\n",
              "  "
            ]
          },
          "metadata": {},
          "execution_count": 17
        }
      ],
      "source": [
        "encoder = OneHotEncoder()\n",
        "train_set_cat = encoder.fit_transform(train_set[cat_var])\n",
        "train_set_cat = pd.DataFrame(train_set_cat.toarray(), columns=encoder.categories_[0].tolist())\n",
        "train_set_cat.head()"
      ]
    },
    {
      "cell_type": "markdown",
      "id": "46f1495a",
      "metadata": {
        "id": "46f1495a"
      },
      "source": [
        "## 3.3 DataFrame preparado"
      ]
    },
    {
      "cell_type": "markdown",
      "id": "5920d2f7",
      "metadata": {
        "id": "5920d2f7"
      },
      "source": [
        "Finalmente, podemos ver abaixo, como será o DataFrame o qual iremos trabalhar, excluindo a coluna 'median_house_value'."
      ]
    },
    {
      "cell_type": "code",
      "execution_count": null,
      "id": "1b009bcd",
      "metadata": {
        "colab": {
          "base_uri": "https://localhost:8080/",
          "height": 287
        },
        "id": "1b009bcd",
        "outputId": "812d3527-e978-4cc3-9aa4-8610ee212ae0"
      },
      "outputs": [
        {
          "output_type": "execute_result",
          "data": {
            "text/plain": [
              "   longitude  latitude  housing_median_age  total_rooms  total_bedrooms  \\\n",
              "0    -121.46     38.52                29.0       3873.0           797.0   \n",
              "1    -117.23     33.09                 7.0       5320.0           855.0   \n",
              "2    -119.04     35.37                44.0       1618.0           310.0   \n",
              "3    -117.13     32.75                24.0       1877.0           519.0   \n",
              "4    -118.70     34.28                27.0       3536.0           646.0   \n",
              "\n",
              "   population  median_income  <1H OCEAN  INLAND  ISLAND  NEAR BAY  NEAR OCEAN  \n",
              "0      2237.0         2.1736        0.0     1.0     0.0       0.0         0.0  \n",
              "1      2015.0         6.3373        0.0     0.0     0.0       0.0         1.0  \n",
              "2       667.0         2.8750        0.0     1.0     0.0       0.0         0.0  \n",
              "3       898.0         2.2264        0.0     0.0     0.0       0.0         1.0  \n",
              "4      1837.0         4.4964        1.0     0.0     0.0       0.0         0.0  "
            ],
            "text/html": [
              "\n",
              "  <div id=\"df-b3a9613d-2628-4531-9835-e9ebed5434e4\">\n",
              "    <div class=\"colab-df-container\">\n",
              "      <div>\n",
              "<style scoped>\n",
              "    .dataframe tbody tr th:only-of-type {\n",
              "        vertical-align: middle;\n",
              "    }\n",
              "\n",
              "    .dataframe tbody tr th {\n",
              "        vertical-align: top;\n",
              "    }\n",
              "\n",
              "    .dataframe thead th {\n",
              "        text-align: right;\n",
              "    }\n",
              "</style>\n",
              "<table border=\"1\" class=\"dataframe\">\n",
              "  <thead>\n",
              "    <tr style=\"text-align: right;\">\n",
              "      <th></th>\n",
              "      <th>longitude</th>\n",
              "      <th>latitude</th>\n",
              "      <th>housing_median_age</th>\n",
              "      <th>total_rooms</th>\n",
              "      <th>total_bedrooms</th>\n",
              "      <th>population</th>\n",
              "      <th>median_income</th>\n",
              "      <th>&lt;1H OCEAN</th>\n",
              "      <th>INLAND</th>\n",
              "      <th>ISLAND</th>\n",
              "      <th>NEAR BAY</th>\n",
              "      <th>NEAR OCEAN</th>\n",
              "    </tr>\n",
              "  </thead>\n",
              "  <tbody>\n",
              "    <tr>\n",
              "      <th>0</th>\n",
              "      <td>-121.46</td>\n",
              "      <td>38.52</td>\n",
              "      <td>29.0</td>\n",
              "      <td>3873.0</td>\n",
              "      <td>797.0</td>\n",
              "      <td>2237.0</td>\n",
              "      <td>2.1736</td>\n",
              "      <td>0.0</td>\n",
              "      <td>1.0</td>\n",
              "      <td>0.0</td>\n",
              "      <td>0.0</td>\n",
              "      <td>0.0</td>\n",
              "    </tr>\n",
              "    <tr>\n",
              "      <th>1</th>\n",
              "      <td>-117.23</td>\n",
              "      <td>33.09</td>\n",
              "      <td>7.0</td>\n",
              "      <td>5320.0</td>\n",
              "      <td>855.0</td>\n",
              "      <td>2015.0</td>\n",
              "      <td>6.3373</td>\n",
              "      <td>0.0</td>\n",
              "      <td>0.0</td>\n",
              "      <td>0.0</td>\n",
              "      <td>0.0</td>\n",
              "      <td>1.0</td>\n",
              "    </tr>\n",
              "    <tr>\n",
              "      <th>2</th>\n",
              "      <td>-119.04</td>\n",
              "      <td>35.37</td>\n",
              "      <td>44.0</td>\n",
              "      <td>1618.0</td>\n",
              "      <td>310.0</td>\n",
              "      <td>667.0</td>\n",
              "      <td>2.8750</td>\n",
              "      <td>0.0</td>\n",
              "      <td>1.0</td>\n",
              "      <td>0.0</td>\n",
              "      <td>0.0</td>\n",
              "      <td>0.0</td>\n",
              "    </tr>\n",
              "    <tr>\n",
              "      <th>3</th>\n",
              "      <td>-117.13</td>\n",
              "      <td>32.75</td>\n",
              "      <td>24.0</td>\n",
              "      <td>1877.0</td>\n",
              "      <td>519.0</td>\n",
              "      <td>898.0</td>\n",
              "      <td>2.2264</td>\n",
              "      <td>0.0</td>\n",
              "      <td>0.0</td>\n",
              "      <td>0.0</td>\n",
              "      <td>0.0</td>\n",
              "      <td>1.0</td>\n",
              "    </tr>\n",
              "    <tr>\n",
              "      <th>4</th>\n",
              "      <td>-118.70</td>\n",
              "      <td>34.28</td>\n",
              "      <td>27.0</td>\n",
              "      <td>3536.0</td>\n",
              "      <td>646.0</td>\n",
              "      <td>1837.0</td>\n",
              "      <td>4.4964</td>\n",
              "      <td>1.0</td>\n",
              "      <td>0.0</td>\n",
              "      <td>0.0</td>\n",
              "      <td>0.0</td>\n",
              "      <td>0.0</td>\n",
              "    </tr>\n",
              "  </tbody>\n",
              "</table>\n",
              "</div>\n",
              "      <button class=\"colab-df-convert\" onclick=\"convertToInteractive('df-b3a9613d-2628-4531-9835-e9ebed5434e4')\"\n",
              "              title=\"Convert this dataframe to an interactive table.\"\n",
              "              style=\"display:none;\">\n",
              "        \n",
              "  <svg xmlns=\"http://www.w3.org/2000/svg\" height=\"24px\"viewBox=\"0 0 24 24\"\n",
              "       width=\"24px\">\n",
              "    <path d=\"M0 0h24v24H0V0z\" fill=\"none\"/>\n",
              "    <path d=\"M18.56 5.44l.94 2.06.94-2.06 2.06-.94-2.06-.94-.94-2.06-.94 2.06-2.06.94zm-11 1L8.5 8.5l.94-2.06 2.06-.94-2.06-.94L8.5 2.5l-.94 2.06-2.06.94zm10 10l.94 2.06.94-2.06 2.06-.94-2.06-.94-.94-2.06-.94 2.06-2.06.94z\"/><path d=\"M17.41 7.96l-1.37-1.37c-.4-.4-.92-.59-1.43-.59-.52 0-1.04.2-1.43.59L10.3 9.45l-7.72 7.72c-.78.78-.78 2.05 0 2.83L4 21.41c.39.39.9.59 1.41.59.51 0 1.02-.2 1.41-.59l7.78-7.78 2.81-2.81c.8-.78.8-2.07 0-2.86zM5.41 20L4 18.59l7.72-7.72 1.47 1.35L5.41 20z\"/>\n",
              "  </svg>\n",
              "      </button>\n",
              "      \n",
              "  <style>\n",
              "    .colab-df-container {\n",
              "      display:flex;\n",
              "      flex-wrap:wrap;\n",
              "      gap: 12px;\n",
              "    }\n",
              "\n",
              "    .colab-df-convert {\n",
              "      background-color: #E8F0FE;\n",
              "      border: none;\n",
              "      border-radius: 50%;\n",
              "      cursor: pointer;\n",
              "      display: none;\n",
              "      fill: #1967D2;\n",
              "      height: 32px;\n",
              "      padding: 0 0 0 0;\n",
              "      width: 32px;\n",
              "    }\n",
              "\n",
              "    .colab-df-convert:hover {\n",
              "      background-color: #E2EBFA;\n",
              "      box-shadow: 0px 1px 2px rgba(60, 64, 67, 0.3), 0px 1px 3px 1px rgba(60, 64, 67, 0.15);\n",
              "      fill: #174EA6;\n",
              "    }\n",
              "\n",
              "    [theme=dark] .colab-df-convert {\n",
              "      background-color: #3B4455;\n",
              "      fill: #D2E3FC;\n",
              "    }\n",
              "\n",
              "    [theme=dark] .colab-df-convert:hover {\n",
              "      background-color: #434B5C;\n",
              "      box-shadow: 0px 1px 3px 1px rgba(0, 0, 0, 0.15);\n",
              "      filter: drop-shadow(0px 1px 2px rgba(0, 0, 0, 0.3));\n",
              "      fill: #FFFFFF;\n",
              "    }\n",
              "  </style>\n",
              "\n",
              "      <script>\n",
              "        const buttonEl =\n",
              "          document.querySelector('#df-b3a9613d-2628-4531-9835-e9ebed5434e4 button.colab-df-convert');\n",
              "        buttonEl.style.display =\n",
              "          google.colab.kernel.accessAllowed ? 'block' : 'none';\n",
              "\n",
              "        async function convertToInteractive(key) {\n",
              "          const element = document.querySelector('#df-b3a9613d-2628-4531-9835-e9ebed5434e4');\n",
              "          const dataTable =\n",
              "            await google.colab.kernel.invokeFunction('convertToInteractive',\n",
              "                                                     [key], {});\n",
              "          if (!dataTable) return;\n",
              "\n",
              "          const docLinkHtml = 'Like what you see? Visit the ' +\n",
              "            '<a target=\"_blank\" href=https://colab.research.google.com/notebooks/data_table.ipynb>data table notebook</a>'\n",
              "            + ' to learn more about interactive tables.';\n",
              "          element.innerHTML = '';\n",
              "          dataTable['output_type'] = 'display_data';\n",
              "          await google.colab.output.renderOutput(dataTable, element);\n",
              "          const docLink = document.createElement('div');\n",
              "          docLink.innerHTML = docLinkHtml;\n",
              "          element.appendChild(docLink);\n",
              "        }\n",
              "      </script>\n",
              "    </div>\n",
              "  </div>\n",
              "  "
            ]
          },
          "metadata": {},
          "execution_count": 18
        }
      ],
      "source": [
        "train_set_prep = pd.concat([train_set_num,train_set_cat], axis=1)\n",
        "train_set_prep.head()"
      ]
    },
    {
      "cell_type": "markdown",
      "id": "66a3c7b1",
      "metadata": {
        "id": "66a3c7b1"
      },
      "source": [
        "# <h1 id='ead'>4 Análise Exploratória dos Dados </h1>"
      ]
    },
    {
      "cell_type": "markdown",
      "id": "ac6bada1",
      "metadata": {
        "id": "ac6bada1"
      },
      "source": [
        "Vamos visualizar a distribuição geográfica dos preços médio das casas."
      ]
    },
    {
      "cell_type": "code",
      "source": [
        "fig, ax = plt.subplots(figsize=(10,6))\n",
        "\n",
        "ax = sns.scatterplot(data=train_set, x='longitude', y='latitude', alpha=1,\n",
        "                hue='ocean_proximity',\n",
        "                size='median_house_value', sizes=(5,200),\n",
        "               ).text(-124,36,'Ocean',fontsize=20)\n",
        "plt.show()"
      ],
      "metadata": {
        "colab": {
          "base_uri": "https://localhost:8080/",
          "height": 388
        },
        "id": "s7WZwFTkCtC3",
        "outputId": "aa80a816-dacf-4107-ebdd-b0273bfcb8ac"
      },
      "id": "s7WZwFTkCtC3",
      "execution_count": null,
      "outputs": [
        {
          "output_type": "display_data",
          "data": {
            "text/plain": [
              "<Figure size 720x432 with 1 Axes>"
            ],
            "image/png": "[encoded data removed]"
          },
          "metadata": {
            "needs_background": "light"
          }
        }
      ]
    },
    {
      "cell_type": "code",
      "source": [
        "fig, ax = plt.subplots(figsize=(7,5))\n",
        "sns.boxplot(data = train_set, x = 'ocean_proximity', y='median_house_value')\n",
        "plt.show()"
      ],
      "metadata": {
        "colab": {
          "base_uri": "https://localhost:8080/",
          "height": 335
        },
        "id": "D73tZOPaDCIT",
        "outputId": "2b8d691e-c62e-4601-b55d-3eca9612ca16"
      },
      "id": "D73tZOPaDCIT",
      "execution_count": null,
      "outputs": [
        {
          "output_type": "display_data",
          "data": {
            "text/plain": [
              "<Figure size 504x360 with 1 Axes>"
            ],
            "image/png": "[encoded data removed]"
          },
          "metadata": {
            "needs_background": "light"
          }
        }
      ]
    },
    {
      "cell_type": "markdown",
      "id": "8f341372",
      "metadata": {
        "id": "8f341372"
      },
      "source": [
        "A partir da visualização do gráfico da distribuição geográfica dos imóveis, podemos ver que os imóveis localizados mais próximos do oceano são os mais caros, confirmado pelo boxplot logo abaixo, onde vemos que a média das casas 'NEAR OCEAN' é levemente mais alta que '<1H OCEAN'"
      ]
    },
    {
      "cell_type": "code",
      "source": [
        "exp_houses = pd.DataFrame(data['median_house_value'].value_counts()).reset_index()\n",
        "exp_houses.columns=['valor_casas','quant']\n",
        "exp_houses.sort_values(by='valor_casas',ascending=False).head()"
      ],
      "metadata": {
        "colab": {
          "base_uri": "https://localhost:8080/",
          "height": 206
        },
        "id": "Ef5oppEYS7en",
        "outputId": "90e4bffd-dd8d-4736-f2cf-d00ea0a9bac6"
      },
      "id": "Ef5oppEYS7en",
      "execution_count": null,
      "outputs": [
        {
          "output_type": "execute_result",
          "data": {
            "text/plain": [
              "      valor_casas  quant\n",
              "0        500001.0    965\n",
              "30       500000.0     27\n",
              "3756     499100.0      1\n",
              "3745     499000.0      1\n",
              "3433     498800.0      1"
            ],
            "text/html": [
              "\n",
              "  <div id=\"df-b456689f-96fd-4d69-b7f5-f9ed74855f17\">\n",
              "    <div class=\"colab-df-container\">\n",
              "      <div>\n",
              "<style scoped>\n",
              "    .dataframe tbody tr th:only-of-type {\n",
              "        vertical-align: middle;\n",
              "    }\n",
              "\n",
              "    .dataframe tbody tr th {\n",
              "        vertical-align: top;\n",
              "    }\n",
              "\n",
              "    .dataframe thead th {\n",
              "        text-align: right;\n",
              "    }\n",
              "</style>\n",
              "<table border=\"1\" class=\"dataframe\">\n",
              "  <thead>\n",
              "    <tr style=\"text-align: right;\">\n",
              "      <th></th>\n",
              "      <th>valor_casas</th>\n",
              "      <th>quant</th>\n",
              "    </tr>\n",
              "  </thead>\n",
              "  <tbody>\n",
              "    <tr>\n",
              "      <th>0</th>\n",
              "      <td>500001.0</td>\n",
              "      <td>965</td>\n",
              "    </tr>\n",
              "    <tr>\n",
              "      <th>30</th>\n",
              "      <td>500000.0</td>\n",
              "      <td>27</td>\n",
              "    </tr>\n",
              "    <tr>\n",
              "      <th>3756</th>\n",
              "      <td>499100.0</td>\n",
              "      <td>1</td>\n",
              "    </tr>\n",
              "    <tr>\n",
              "      <th>3745</th>\n",
              "      <td>499000.0</td>\n",
              "      <td>1</td>\n",
              "    </tr>\n",
              "    <tr>\n",
              "      <th>3433</th>\n",
              "      <td>498800.0</td>\n",
              "      <td>1</td>\n",
              "    </tr>\n",
              "  </tbody>\n",
              "</table>\n",
              "</div>\n",
              "      <button class=\"colab-df-convert\" onclick=\"convertToInteractive('df-b456689f-96fd-4d69-b7f5-f9ed74855f17')\"\n",
              "              title=\"Convert this dataframe to an interactive table.\"\n",
              "              style=\"display:none;\">\n",
              "        \n",
              "  <svg xmlns=\"http://www.w3.org/2000/svg\" height=\"24px\"viewBox=\"0 0 24 24\"\n",
              "       width=\"24px\">\n",
              "    <path d=\"M0 0h24v24H0V0z\" fill=\"none\"/>\n",
              "    <path d=\"M18.56 5.44l.94 2.06.94-2.06 2.06-.94-2.06-.94-.94-2.06-.94 2.06-2.06.94zm-11 1L8.5 8.5l.94-2.06 2.06-.94-2.06-.94L8.5 2.5l-.94 2.06-2.06.94zm10 10l.94 2.06.94-2.06 2.06-.94-2.06-.94-.94-2.06-.94 2.06-2.06.94z\"/><path d=\"M17.41 7.96l-1.37-1.37c-.4-.4-.92-.59-1.43-.59-.52 0-1.04.2-1.43.59L10.3 9.45l-7.72 7.72c-.78.78-.78 2.05 0 2.83L4 21.41c.39.39.9.59 1.41.59.51 0 1.02-.2 1.41-.59l7.78-7.78 2.81-2.81c.8-.78.8-2.07 0-2.86zM5.41 20L4 18.59l7.72-7.72 1.47 1.35L5.41 20z\"/>\n",
              "  </svg>\n",
              "      </button>\n",
              "      \n",
              "  <style>\n",
              "    .colab-df-container {\n",
              "      display:flex;\n",
              "      flex-wrap:wrap;\n",
              "      gap: 12px;\n",
              "    }\n",
              "\n",
              "    .colab-df-convert {\n",
              "      background-color: #E8F0FE;\n",
              "      border: none;\n",
              "      border-radius: 50%;\n",
              "      cursor: pointer;\n",
              "      display: none;\n",
              "      fill: #1967D2;\n",
              "      height: 32px;\n",
              "      padding: 0 0 0 0;\n",
              "      width: 32px;\n",
              "    }\n",
              "\n",
              "    .colab-df-convert:hover {\n",
              "      background-color: #E2EBFA;\n",
              "      box-shadow: 0px 1px 2px rgba(60, 64, 67, 0.3), 0px 1px 3px 1px rgba(60, 64, 67, 0.15);\n",
              "      fill: #174EA6;\n",
              "    }\n",
              "\n",
              "    [theme=dark] .colab-df-convert {\n",
              "      background-color: #3B4455;\n",
              "      fill: #D2E3FC;\n",
              "    }\n",
              "\n",
              "    [theme=dark] .colab-df-convert:hover {\n",
              "      background-color: #434B5C;\n",
              "      box-shadow: 0px 1px 3px 1px rgba(0, 0, 0, 0.15);\n",
              "      filter: drop-shadow(0px 1px 2px rgba(0, 0, 0, 0.3));\n",
              "      fill: #FFFFFF;\n",
              "    }\n",
              "  </style>\n",
              "\n",
              "      <script>\n",
              "        const buttonEl =\n",
              "          document.querySelector('#df-b456689f-96fd-4d69-b7f5-f9ed74855f17 button.colab-df-convert');\n",
              "        buttonEl.style.display =\n",
              "          google.colab.kernel.accessAllowed ? 'block' : 'none';\n",
              "\n",
              "        async function convertToInteractive(key) {\n",
              "          const element = document.querySelector('#df-b456689f-96fd-4d69-b7f5-f9ed74855f17');\n",
              "          const dataTable =\n",
              "            await google.colab.kernel.invokeFunction('convertToInteractive',\n",
              "                                                     [key], {});\n",
              "          if (!dataTable) return;\n",
              "\n",
              "          const docLinkHtml = 'Like what you see? Visit the ' +\n",
              "            '<a target=\"_blank\" href=https://colab.research.google.com/notebooks/data_table.ipynb>data table notebook</a>'\n",
              "            + ' to learn more about interactive tables.';\n",
              "          element.innerHTML = '';\n",
              "          dataTable['output_type'] = 'display_data';\n",
              "          await google.colab.output.renderOutput(dataTable, element);\n",
              "          const docLink = document.createElement('div');\n",
              "          docLink.innerHTML = docLinkHtml;\n",
              "          element.appendChild(docLink);\n",
              "        }\n",
              "      </script>\n",
              "    </div>\n",
              "  </div>\n",
              "  "
            ]
          },
          "metadata": {},
          "execution_count": 135
        }
      ]
    },
    {
      "cell_type": "markdown",
      "source": [
        "Vemos que há quase 1000 casas no nosso conjunto de dados completo cujo valor é igual ou superior a 500000. Vamos ver onde elas estão localizadas:"
      ],
      "metadata": {
        "id": "3-Kc4ygjVOLH"
      },
      "id": "3-Kc4ygjVOLH"
    },
    {
      "cell_type": "code",
      "source": [
        "exp = data.query('median_house_value>=500000')"
      ],
      "metadata": {
        "id": "Avy0QUszXtIE"
      },
      "id": "Avy0QUszXtIE",
      "execution_count": null,
      "outputs": []
    },
    {
      "cell_type": "code",
      "source": [
        "fig, ax = plt.subplots(figsize=(10,6))\n",
        "\n",
        "ax = sns.scatterplot(data=exp, x='longitude', y='latitude', alpha=1,\n",
        "                hue='ocean_proximity',\n",
        "                size='median_house_value', sizes=(5,200),\n",
        "               ).text(-122,34,'Ocean',fontsize=20)\n",
        "plt.show()"
      ],
      "metadata": {
        "colab": {
          "base_uri": "https://localhost:8080/",
          "height": 388
        },
        "id": "-C-8x7okViCJ",
        "outputId": "a89047f9-e231-4e78-f08b-29fba83459ef"
      },
      "id": "-C-8x7okViCJ",
      "execution_count": null,
      "outputs": [
        {
          "output_type": "display_data",
          "data": {
            "text/plain": [
              "<Figure size 720x432 with 1 Axes>"
            ],
            "image/png": "[encoded data removed]"
          },
          "metadata": {
            "needs_background": "light"
          }
        }
      ]
    },
    {
      "cell_type": "markdown",
      "source": [
        "Confirmamos então que as casas mais caras estão localizadas próximos da costa."
      ],
      "metadata": {
        "id": "_2GRi5pkYH8d"
      },
      "id": "_2GRi5pkYH8d"
    },
    {
      "cell_type": "markdown",
      "id": "3799cf7e",
      "metadata": {
        "id": "3799cf7e"
      },
      "source": [
        "# <h1 id='modelagem'>5 Modelagem </h1>"
      ]
    },
    {
      "cell_type": "markdown",
      "id": "f7ee8a86",
      "metadata": {
        "id": "f7ee8a86"
      },
      "source": [
        "## 5.1 Preparação dos dados"
      ]
    },
    {
      "cell_type": "markdown",
      "id": "2da5816b",
      "metadata": {
        "id": "2da5816b"
      },
      "source": [
        "Vamos realizar novamente o pré-tratamento dos dados, criando um Pipeline."
      ]
    },
    {
      "cell_type": "code",
      "execution_count": null,
      "id": "1f229701",
      "metadata": {
        "id": "1f229701"
      },
      "outputs": [],
      "source": [
        "X_train = train_set.drop(columns=['median_house_value'])\n",
        "y_train = train_set['median_house_value']"
      ]
    },
    {
      "cell_type": "markdown",
      "id": "0d0b1344",
      "metadata": {
        "id": "0d0b1344"
      },
      "source": [
        "E fazer as transformações necessárias, as mesmas que foram feitas anteriormente, através do ColumnTransformer."
      ]
    },
    {
      "cell_type": "code",
      "source": [
        "#Para as variáveis numéricas:\n",
        "\n",
        "num_var"
      ],
      "metadata": {
        "colab": {
          "base_uri": "https://localhost:8080/"
        },
        "id": "iD6_ea1hFR80",
        "outputId": "d8ca10d7-01eb-4cca-8b1b-2af0ecd3c0e1"
      },
      "id": "iD6_ea1hFR80",
      "execution_count": null,
      "outputs": [
        {
          "output_type": "execute_result",
          "data": {
            "text/plain": [
              "['longitude',\n",
              " 'latitude',\n",
              " 'housing_median_age',\n",
              " 'total_rooms',\n",
              " 'total_bedrooms',\n",
              " 'population',\n",
              " 'median_income']"
            ]
          },
          "metadata": {},
          "execution_count": 23
        }
      ]
    },
    {
      "cell_type": "code",
      "execution_count": null,
      "id": "8d9aa6f9",
      "metadata": {
        "id": "8d9aa6f9"
      },
      "outputs": [],
      "source": [
        "num_transf = Pipeline([\n",
        "    ('imputer', SimpleImputer(strategy='median')),\n",
        "    ('scaler', StandardScaler())\n",
        "])\n",
        "\n",
        "#Para as variáveis categóricas:\n",
        "\n",
        "cat_var = ['ocean_proximity']\n",
        "cat_transf = Pipeline([\n",
        "    ('encoder', OneHotEncoder())\n",
        "])"
      ]
    },
    {
      "cell_type": "code",
      "execution_count": null,
      "id": "1fb1d5d4",
      "metadata": {
        "id": "1fb1d5d4"
      },
      "outputs": [],
      "source": [
        "#Pipeline de pré-processamento:\n",
        "\n",
        "preprocessor = ColumnTransformer([\n",
        "    ('num', num_transf, num_var),\n",
        "    ('cat', cat_transf, cat_var)\n",
        "])"
      ]
    },
    {
      "cell_type": "code",
      "execution_count": null,
      "id": "cfcb9d3b",
      "metadata": {
        "id": "cfcb9d3b",
        "colab": {
          "base_uri": "https://localhost:8080/"
        },
        "outputId": "08000a57-8c63-492b-843f-1880f74d434c"
      },
      "outputs": [
        {
          "output_type": "execute_result",
          "data": {
            "text/plain": [
              "array([[-0.94135046,  1.34743822,  0.02756357,  0.58477745,  0.64037127,\n",
              "         0.73260236, -0.8936472 ,  0.        ,  1.        ,  0.        ,\n",
              "         0.        ,  0.        ],\n",
              "       [ 1.17178212, -1.19243966, -1.72201763,  1.26146668,  0.78156132,\n",
              "         0.53361152,  1.292168  ,  0.        ,  0.        ,  0.        ,\n",
              "         0.        ,  1.        ],\n",
              "       [ 0.26758118, -0.1259716 ,  1.22045984, -0.46977281, -0.54513828,\n",
              "        -0.67467519, -0.52543365,  0.        ,  1.        ,  0.        ,\n",
              "         0.        ,  0.        ]])"
            ]
          },
          "metadata": {},
          "execution_count": 26
        }
      ],
      "source": [
        "X_train = preprocessor.fit_transform(X_train)\n",
        "X_train[0:3]"
      ]
    },
    {
      "cell_type": "markdown",
      "id": "7de5427f",
      "metadata": {
        "id": "7de5427f"
      },
      "source": [
        "## 5.2 Regressão Linear"
      ]
    },
    {
      "cell_type": "code",
      "execution_count": null,
      "id": "d3b7a6a6",
      "metadata": {
        "id": "d3b7a6a6"
      },
      "outputs": [],
      "source": [
        "from sklearn.linear_model import LinearRegression"
      ]
    },
    {
      "cell_type": "code",
      "source": [
        "reg_lin = LinearRegression()"
      ],
      "metadata": {
        "id": "hyKU3rRUE2LT"
      },
      "id": "hyKU3rRUE2LT",
      "execution_count": null,
      "outputs": []
    },
    {
      "cell_type": "markdown",
      "id": "a6e5bfb5",
      "metadata": {
        "id": "a6e5bfb5"
      },
      "source": [
        "Vamos realizar validação cruzada na Regressão Linear:"
      ]
    },
    {
      "cell_type": "code",
      "execution_count": null,
      "id": "b5f1a26b",
      "metadata": {
        "id": "b5f1a26b"
      },
      "outputs": [],
      "source": [
        "lin_scores = cross_val_score(reg_lin, X_train, y_train, scoring='neg_mean_squared_error', cv=10 )\n",
        "lin_scores_rmse = np.sqrt(-lin_scores)"
      ]
    },
    {
      "cell_type": "code",
      "execution_count": null,
      "id": "11a60516",
      "metadata": {
        "colab": {
          "base_uri": "https://localhost:8080/"
        },
        "id": "11a60516",
        "outputId": "0da9a9b9-7d74-4da6-fbc9-46c5f911a014"
      },
      "outputs": [
        {
          "output_type": "stream",
          "name": "stdout",
          "text": [
            "O RMSE é igual a 69350.35612654973\n"
          ]
        }
      ],
      "source": [
        "print(f'O RMSE é igual a {lin_scores_rmse.mean()}')"
      ]
    },
    {
      "cell_type": "markdown",
      "id": "5fe73173",
      "metadata": {
        "id": "5fe73173"
      },
      "source": [
        "## 5.3 Decision Tree Regressor"
      ]
    },
    {
      "cell_type": "code",
      "execution_count": null,
      "id": "60e9ce9c",
      "metadata": {
        "id": "60e9ce9c"
      },
      "outputs": [],
      "source": [
        "from sklearn.tree import DecisionTreeRegressor"
      ]
    },
    {
      "cell_type": "code",
      "source": [
        "dtr = DecisionTreeRegressor()"
      ],
      "metadata": {
        "id": "4GBLjglNEcTU"
      },
      "id": "4GBLjglNEcTU",
      "execution_count": null,
      "outputs": []
    },
    {
      "cell_type": "code",
      "source": [
        "dtr.fit(X_train,y_train)"
      ],
      "metadata": {
        "colab": {
          "base_uri": "https://localhost:8080/"
        },
        "id": "wOrDDo1HEfcz",
        "outputId": "29ccd5ed-1936-4a39-8e0b-94cf7c04b4e2"
      },
      "id": "wOrDDo1HEfcz",
      "execution_count": null,
      "outputs": [
        {
          "output_type": "execute_result",
          "data": {
            "text/plain": [
              "DecisionTreeRegressor()"
            ]
          },
          "metadata": {},
          "execution_count": 59
        }
      ]
    },
    {
      "cell_type": "markdown",
      "source": [
        "Vamos realizar a validação cruzada na Decision Tree Regressor:"
      ],
      "metadata": {
        "id": "gL0UMxafAKK-"
      },
      "id": "gL0UMxafAKK-"
    },
    {
      "cell_type": "code",
      "source": [
        "dtr_scores = cross_val_score(dtr, X_train,y_train, scoring='neg_mean_squared_error', cv=10)"
      ],
      "metadata": {
        "id": "dkty0XtzARL0"
      },
      "id": "dkty0XtzARL0",
      "execution_count": null,
      "outputs": []
    },
    {
      "cell_type": "code",
      "execution_count": null,
      "id": "2d410922",
      "metadata": {
        "colab": {
          "base_uri": "https://localhost:8080/"
        },
        "id": "2d410922",
        "outputId": "4f37a3f3-eac3-491c-c5cc-bca2dfc3b212"
      },
      "outputs": [
        {
          "output_type": "stream",
          "name": "stdout",
          "text": [
            "O RMSE é igual a 69363.0974929635\n"
          ]
        }
      ],
      "source": [
        "print(f'O RMSE é igual a {np.sqrt(-dtr_scores.mean())}')"
      ]
    },
    {
      "cell_type": "markdown",
      "id": "93da8ac5",
      "metadata": {
        "id": "93da8ac5"
      },
      "source": [
        "## 5.4 Random Forest Regressor"
      ]
    },
    {
      "cell_type": "code",
      "execution_count": null,
      "id": "c5357e90",
      "metadata": {
        "id": "c5357e90"
      },
      "outputs": [],
      "source": [
        "from sklearn.ensemble import RandomForestRegressor"
      ]
    },
    {
      "cell_type": "code",
      "source": [
        "rfr = RandomForestRegressor()"
      ],
      "metadata": {
        "id": "38OkLJC1EtVk"
      },
      "id": "38OkLJC1EtVk",
      "execution_count": null,
      "outputs": []
    },
    {
      "cell_type": "code",
      "source": [
        "rfr.fit(X_train,y_train)"
      ],
      "metadata": {
        "colab": {
          "base_uri": "https://localhost:8080/"
        },
        "id": "2-4QkDbsFXtj",
        "outputId": "be3a88a6-ff20-402a-8214-dbf58fcdf693"
      },
      "id": "2-4QkDbsFXtj",
      "execution_count": null,
      "outputs": [
        {
          "output_type": "execute_result",
          "data": {
            "text/plain": [
              "RandomForestRegressor()"
            ]
          },
          "metadata": {},
          "execution_count": 66
        }
      ]
    },
    {
      "cell_type": "code",
      "source": [
        "rfr_scores = cross_val_score(rfr, X_train,y_train, scoring='neg_mean_squared_error', cv=10)"
      ],
      "metadata": {
        "id": "-_ozRjYUFXzZ"
      },
      "id": "-_ozRjYUFXzZ",
      "execution_count": null,
      "outputs": []
    },
    {
      "cell_type": "code",
      "execution_count": null,
      "id": "379b8112",
      "metadata": {
        "colab": {
          "base_uri": "https://localhost:8080/"
        },
        "id": "379b8112",
        "outputId": "e1bd7b73-2871-415d-ccd7-40ea93122315"
      },
      "outputs": [
        {
          "output_type": "stream",
          "name": "stdout",
          "text": [
            "O RMSE é igual a 49490.19312255573\n"
          ]
        }
      ],
      "source": [
        "print(f'O RMSE é igual a {np.sqrt(-rfr_scores.mean())}')"
      ]
    },
    {
      "cell_type": "markdown",
      "id": "981eca91",
      "metadata": {
        "id": "981eca91"
      },
      "source": [
        "# <h1 id='avaliacao'>6 Avaliação no conjunto de testes </h1>"
      ]
    },
    {
      "cell_type": "markdown",
      "id": "eeca3be7",
      "metadata": {
        "id": "eeca3be7"
      },
      "source": [
        "## 6.1 Pré-processamento"
      ]
    },
    {
      "cell_type": "code",
      "execution_count": null,
      "id": "291130e0",
      "metadata": {
        "id": "291130e0"
      },
      "outputs": [],
      "source": [
        "X_test = test_set.drop(columns=['median_house_value'])\n",
        "y_test = test_set['median_house_value']"
      ]
    },
    {
      "cell_type": "code",
      "execution_count": null,
      "id": "6400d1f4",
      "metadata": {
        "colab": {
          "base_uri": "https://localhost:8080/"
        },
        "id": "6400d1f4",
        "outputId": "a9e5ce51-750b-41a1-8016-33f754ab4429"
      },
      "outputs": [
        {
          "output_type": "execute_result",
          "data": {
            "text/plain": [
              "array([[ 0.59229422, -0.71065803,  0.02756357, ...,  0.        ,\n",
              "         0.        ,  0.        ],\n",
              "       [-0.42180959, -0.35049119, -0.37006852, ...,  0.        ,\n",
              "         0.        ,  0.        ],\n",
              "       [ 0.56232071, -0.64985064,  0.5842485 , ...,  0.        ,\n",
              "         0.        ,  0.        ],\n",
              "       ...,\n",
              "       [-0.07211862, -0.56097831,  1.14093342, ...,  0.        ,\n",
              "         0.        ,  0.        ],\n",
              "       [ 0.83208232, -0.93985512,  0.10708999, ...,  0.        ,\n",
              "         0.        ,  0.        ],\n",
              "       [ 0.50736927, -0.67791559,  0.5842485 , ...,  0.        ,\n",
              "         0.        ,  0.        ]])"
            ]
          },
          "metadata": {},
          "execution_count": 57
        }
      ],
      "source": [
        "X_test = preprocessor.transform(X_test)\n",
        "X_test"
      ]
    },
    {
      "cell_type": "markdown",
      "id": "e4cdae4d",
      "metadata": {
        "id": "e4cdae4d"
      },
      "source": [
        "## 6.2 Modelagem"
      ]
    },
    {
      "cell_type": "markdown",
      "id": "2b834973",
      "metadata": {
        "id": "2b834973"
      },
      "source": [
        "Vamos realizar a modelagem com o modelo que obteve o melhor resultado."
      ]
    },
    {
      "cell_type": "code",
      "source": [
        "y_pred = rfr.predict(X_test)"
      ],
      "metadata": {
        "id": "H3dBAJbJElME"
      },
      "id": "H3dBAJbJElME",
      "execution_count": null,
      "outputs": []
    },
    {
      "cell_type": "markdown",
      "id": "fab1eb84",
      "metadata": {
        "id": "fab1eb84"
      },
      "source": [
        "## 6.3 Avaliação do modelo"
      ]
    },
    {
      "cell_type": "markdown",
      "id": "c4861108",
      "metadata": {
        "id": "c4861108"
      },
      "source": [
        "Vamos agora avaliar o erro RMSE:"
      ]
    },
    {
      "cell_type": "code",
      "execution_count": null,
      "id": "802c55ed",
      "metadata": {
        "id": "802c55ed"
      },
      "outputs": [],
      "source": [
        "y_pred = rfr.predict(X_test)"
      ]
    },
    {
      "cell_type": "code",
      "execution_count": null,
      "id": "109cb242",
      "metadata": {
        "colab": {
          "base_uri": "https://localhost:8080/"
        },
        "id": "109cb242",
        "outputId": "fb72f46c-86a7-413e-ac12-dcbdffa26d24"
      },
      "outputs": [
        {
          "output_type": "stream",
          "name": "stdout",
          "text": [
            "O erro RMSE é de 47093.616218955416\n"
          ]
        }
      ],
      "source": [
        "RMSE = mean_squared_error(y_test,y_pred, squared=False)\n",
        "print(f'O erro RMSE é de {RMSE}')"
      ]
    },
    {
      "cell_type": "code",
      "source": [
        "rfr.score(X_test,y_test)"
      ],
      "metadata": {
        "colab": {
          "base_uri": "https://localhost:8080/"
        },
        "id": "62N65dckFxX0",
        "outputId": "8ae07d43-cd8f-4921-86fc-a5c587401385"
      },
      "id": "62N65dckFxX0",
      "execution_count": null,
      "outputs": [
        {
          "output_type": "execute_result",
          "data": {
            "text/plain": [
              "0.829833258786007"
            ]
          },
          "metadata": {},
          "execution_count": 71
        }
      ]
    },
    {
      "cell_type": "code",
      "execution_count": null,
      "id": "45488351",
      "metadata": {
        "colab": {
          "base_uri": "https://localhost:8080/",
          "height": 346
        },
        "id": "45488351",
        "outputId": "6e266561-ae34-4dc8-99de-7248d13f0838"
      },
      "outputs": [
        {
          "output_type": "display_data",
          "data": {
            "text/plain": [
              "<Figure size 720x360 with 1 Axes>"
            ],
            "image/png": "[encoded data removed]"
          },
          "metadata": {
            "needs_background": "light"
          }
        }
      ],
      "source": [
        "plt.subplots(figsize=(10,5))\n",
        "sns.kdeplot(y_pred, color='red')\n",
        "sns.kdeplot(y_test, color='blue')\n",
        "plt.legend(['Valores previstos pelo modelo','Valores reais das casas'])\n",
        "plt.show()"
      ]
    },
    {
      "cell_type": "markdown",
      "id": "7255671e",
      "metadata": {
        "id": "7255671e"
      },
      "source": [
        "Percebemos que o modelo apresenta erros mais representativos entre os valores de 15000 e 25000, e também ao prever os valores de casas por volta de 500000."
      ]
    },
    {
      "cell_type": "code",
      "execution_count": null,
      "id": "9b48ad38",
      "metadata": {
        "colab": {
          "base_uri": "https://localhost:8080/",
          "height": 206
        },
        "id": "9b48ad38",
        "outputId": "fb25e2ed-0298-4992-ebf5-92b58d3d94e5"
      },
      "outputs": [
        {
          "output_type": "execute_result",
          "data": {
            "text/plain": [
              "       valor_real      erro\n",
              "5241     500001.0 -18335.42\n",
              "17352    162500.0  33705.03\n",
              "3505     204600.0  -6255.00\n",
              "7777     159700.0  16575.00\n",
              "14155    184000.0  34280.00"
            ],
            "text/html": [
              "\n",
              "  <div id=\"df-e57d9c16-524c-486e-b6a1-f9a06ec4dd8e\">\n",
              "    <div class=\"colab-df-container\">\n",
              "      <div>\n",
              "<style scoped>\n",
              "    .dataframe tbody tr th:only-of-type {\n",
              "        vertical-align: middle;\n",
              "    }\n",
              "\n",
              "    .dataframe tbody tr th {\n",
              "        vertical-align: top;\n",
              "    }\n",
              "\n",
              "    .dataframe thead th {\n",
              "        text-align: right;\n",
              "    }\n",
              "</style>\n",
              "<table border=\"1\" class=\"dataframe\">\n",
              "  <thead>\n",
              "    <tr style=\"text-align: right;\">\n",
              "      <th></th>\n",
              "      <th>valor_real</th>\n",
              "      <th>erro</th>\n",
              "    </tr>\n",
              "  </thead>\n",
              "  <tbody>\n",
              "    <tr>\n",
              "      <th>5241</th>\n",
              "      <td>500001.0</td>\n",
              "      <td>-18335.42</td>\n",
              "    </tr>\n",
              "    <tr>\n",
              "      <th>17352</th>\n",
              "      <td>162500.0</td>\n",
              "      <td>33705.03</td>\n",
              "    </tr>\n",
              "    <tr>\n",
              "      <th>3505</th>\n",
              "      <td>204600.0</td>\n",
              "      <td>-6255.00</td>\n",
              "    </tr>\n",
              "    <tr>\n",
              "      <th>7777</th>\n",
              "      <td>159700.0</td>\n",
              "      <td>16575.00</td>\n",
              "    </tr>\n",
              "    <tr>\n",
              "      <th>14155</th>\n",
              "      <td>184000.0</td>\n",
              "      <td>34280.00</td>\n",
              "    </tr>\n",
              "  </tbody>\n",
              "</table>\n",
              "</div>\n",
              "      <button class=\"colab-df-convert\" onclick=\"convertToInteractive('df-e57d9c16-524c-486e-b6a1-f9a06ec4dd8e')\"\n",
              "              title=\"Convert this dataframe to an interactive table.\"\n",
              "              style=\"display:none;\">\n",
              "        \n",
              "  <svg xmlns=\"http://www.w3.org/2000/svg\" height=\"24px\"viewBox=\"0 0 24 24\"\n",
              "       width=\"24px\">\n",
              "    <path d=\"M0 0h24v24H0V0z\" fill=\"none\"/>\n",
              "    <path d=\"M18.56 5.44l.94 2.06.94-2.06 2.06-.94-2.06-.94-.94-2.06-.94 2.06-2.06.94zm-11 1L8.5 8.5l.94-2.06 2.06-.94-2.06-.94L8.5 2.5l-.94 2.06-2.06.94zm10 10l.94 2.06.94-2.06 2.06-.94-2.06-.94-.94-2.06-.94 2.06-2.06.94z\"/><path d=\"M17.41 7.96l-1.37-1.37c-.4-.4-.92-.59-1.43-.59-.52 0-1.04.2-1.43.59L10.3 9.45l-7.72 7.72c-.78.78-.78 2.05 0 2.83L4 21.41c.39.39.9.59 1.41.59.51 0 1.02-.2 1.41-.59l7.78-7.78 2.81-2.81c.8-.78.8-2.07 0-2.86zM5.41 20L4 18.59l7.72-7.72 1.47 1.35L5.41 20z\"/>\n",
              "  </svg>\n",
              "      </button>\n",
              "      \n",
              "  <style>\n",
              "    .colab-df-container {\n",
              "      display:flex;\n",
              "      flex-wrap:wrap;\n",
              "      gap: 12px;\n",
              "    }\n",
              "\n",
              "    .colab-df-convert {\n",
              "      background-color: #E8F0FE;\n",
              "      border: none;\n",
              "      border-radius: 50%;\n",
              "      cursor: pointer;\n",
              "      display: none;\n",
              "      fill: #1967D2;\n",
              "      height: 32px;\n",
              "      padding: 0 0 0 0;\n",
              "      width: 32px;\n",
              "    }\n",
              "\n",
              "    .colab-df-convert:hover {\n",
              "      background-color: #E2EBFA;\n",
              "      box-shadow: 0px 1px 2px rgba(60, 64, 67, 0.3), 0px 1px 3px 1px rgba(60, 64, 67, 0.15);\n",
              "      fill: #174EA6;\n",
              "    }\n",
              "\n",
              "    [theme=dark] .colab-df-convert {\n",
              "      background-color: #3B4455;\n",
              "      fill: #D2E3FC;\n",
              "    }\n",
              "\n",
              "    [theme=dark] .colab-df-convert:hover {\n",
              "      background-color: #434B5C;\n",
              "      box-shadow: 0px 1px 3px 1px rgba(0, 0, 0, 0.15);\n",
              "      filter: drop-shadow(0px 1px 2px rgba(0, 0, 0, 0.3));\n",
              "      fill: #FFFFFF;\n",
              "    }\n",
              "  </style>\n",
              "\n",
              "      <script>\n",
              "        const buttonEl =\n",
              "          document.querySelector('#df-e57d9c16-524c-486e-b6a1-f9a06ec4dd8e button.colab-df-convert');\n",
              "        buttonEl.style.display =\n",
              "          google.colab.kernel.accessAllowed ? 'block' : 'none';\n",
              "\n",
              "        async function convertToInteractive(key) {\n",
              "          const element = document.querySelector('#df-e57d9c16-524c-486e-b6a1-f9a06ec4dd8e');\n",
              "          const dataTable =\n",
              "            await google.colab.kernel.invokeFunction('convertToInteractive',\n",
              "                                                     [key], {});\n",
              "          if (!dataTable) return;\n",
              "\n",
              "          const docLinkHtml = 'Like what you see? Visit the ' +\n",
              "            '<a target=\"_blank\" href=https://colab.research.google.com/notebooks/data_table.ipynb>data table notebook</a>'\n",
              "            + ' to learn more about interactive tables.';\n",
              "          element.innerHTML = '';\n",
              "          dataTable['output_type'] = 'display_data';\n",
              "          await google.colab.output.renderOutput(dataTable, element);\n",
              "          const docLink = document.createElement('div');\n",
              "          docLink.innerHTML = docLinkHtml;\n",
              "          element.appendChild(docLink);\n",
              "        }\n",
              "      </script>\n",
              "    </div>\n",
              "  </div>\n",
              "  "
            ]
          },
          "metadata": {},
          "execution_count": 72
        }
      ],
      "source": [
        "y_erro = pd.DataFrame({'valor_real':y_test, 'erro':y_pred-y_test})\n",
        "y_erro[0:5]"
      ]
    },
    {
      "cell_type": "code",
      "execution_count": null,
      "id": "13ad9028",
      "metadata": {
        "colab": {
          "base_uri": "https://localhost:8080/",
          "height": 298
        },
        "id": "13ad9028",
        "outputId": "6129fdc0-0fe9-48b6-e5d3-14e2f20d4cc8"
      },
      "outputs": [
        {
          "output_type": "execute_result",
          "data": {
            "text/plain": [
              "<matplotlib.axes._subplots.AxesSubplot at 0x7f1e4e650890>"
            ]
          },
          "metadata": {},
          "execution_count": 73
        },
        {
          "output_type": "display_data",
          "data": {
            "text/plain": [
              "<Figure size 432x288 with 1 Axes>"
            ],
            "image/png": "[encoded data removed]"
          },
          "metadata": {
            "needs_background": "light"
          }
        }
      ],
      "source": [
        "sns.barplot(data=y_erro,x='valor_real',y='erro')"
      ]
    },
    {
      "cell_type": "markdown",
      "source": [
        "## 6.4 Feature importance"
      ],
      "metadata": {
        "id": "knP3X9XeI-Eo"
      },
      "id": "knP3X9XeI-Eo"
    },
    {
      "cell_type": "markdown",
      "source": [
        "Vamos verificar quais são as variáveis (colunas) mais importantes para o nosso modelo."
      ],
      "metadata": {
        "id": "TJzaccZpMd2V"
      },
      "id": "TJzaccZpMd2V"
    },
    {
      "cell_type": "code",
      "source": [
        "plt.subplots(figsize=(20,5))\n",
        "sorted_index = rfr.feature_importances_.argsort()\n",
        "sns.barplot(x=train_set_prep.columns[sorted_index], y=rfr.feature_importances_[sorted_index])\n",
        "plt.show()"
      ],
      "metadata": {
        "colab": {
          "base_uri": "https://localhost:8080/",
          "height": 255
        },
        "id": "yiyGCdN6JDPz",
        "outputId": "50f4c942-48d5-45b0-f515-0e60a46e89ee"
      },
      "id": "yiyGCdN6JDPz",
      "execution_count": null,
      "outputs": [
        {
          "output_type": "display_data",
          "data": {
            "text/plain": [
              "<Figure size 1440x360 with 1 Axes>"
            ],
            "image/png": "[encoded data removed]"
          },
          "metadata": {
            "needs_background": "light"
          }
        }
      ]
    },
    {
      "cell_type": "markdown",
      "source": [
        "Vemos que 'median_income' apresenta quase 50% de importância na descrição do modelo, seguido dde 'INLAND'(15%), 'longitude'(13%) e 'latitude'(11%). \n",
        "Isto é, **localização** é de fato grande importância para o setor imobiliário."
      ],
      "metadata": {
        "id": "f197diA5Mjo8"
      },
      "id": "f197diA5Mjo8"
    },
    {
      "cell_type": "markdown",
      "id": "ad4ad4f8",
      "metadata": {
        "id": "ad4ad4f8"
      },
      "source": [
        "# <h1 id='conclusao'>7 Conclusão </h1>"
      ]
    },
    {
      "cell_type": "markdown",
      "id": "f700b02d",
      "metadata": {
        "id": "f700b02d"
      },
      "source": [
        "O RMSE obtido para os 3 modelos durante o treino, Regressão Linear, Decision Tree Regressor e Randon Forest Regressor, é:"
      ]
    },
    {
      "cell_type": "code",
      "execution_count": null,
      "id": "9f4da7f9",
      "metadata": {
        "id": "9f4da7f9",
        "colab": {
          "base_uri": "https://localhost:8080/",
          "height": 143
        },
        "outputId": "1c5a190f-6a58-43fe-cd6e-7a8614ac4159"
      },
      "outputs": [
        {
          "output_type": "execute_result",
          "data": {
            "text/plain": [
              "                                 RMSE\n",
              "Regressão Linear         69350.356127\n",
              "Decision Tree Regressor  69834.189149\n",
              "Randon Forest Regressor  49547.278928"
            ],
            "text/html": [
              "\n",
              "  <div id=\"df-5219ff15-db63-429b-97a0-cca15037af30\">\n",
              "    <div class=\"colab-df-container\">\n",
              "      <div>\n",
              "<style scoped>\n",
              "    .dataframe tbody tr th:only-of-type {\n",
              "        vertical-align: middle;\n",
              "    }\n",
              "\n",
              "    .dataframe tbody tr th {\n",
              "        vertical-align: top;\n",
              "    }\n",
              "\n",
              "    .dataframe thead th {\n",
              "        text-align: right;\n",
              "    }\n",
              "</style>\n",
              "<table border=\"1\" class=\"dataframe\">\n",
              "  <thead>\n",
              "    <tr style=\"text-align: right;\">\n",
              "      <th></th>\n",
              "      <th>RMSE</th>\n",
              "    </tr>\n",
              "  </thead>\n",
              "  <tbody>\n",
              "    <tr>\n",
              "      <th>Regressão Linear</th>\n",
              "      <td>69350.356127</td>\n",
              "    </tr>\n",
              "    <tr>\n",
              "      <th>Decision Tree Regressor</th>\n",
              "      <td>69834.189149</td>\n",
              "    </tr>\n",
              "    <tr>\n",
              "      <th>Randon Forest Regressor</th>\n",
              "      <td>49547.278928</td>\n",
              "    </tr>\n",
              "  </tbody>\n",
              "</table>\n",
              "</div>\n",
              "      <button class=\"colab-df-convert\" onclick=\"convertToInteractive('df-5219ff15-db63-429b-97a0-cca15037af30')\"\n",
              "              title=\"Convert this dataframe to an interactive table.\"\n",
              "              style=\"display:none;\">\n",
              "        \n",
              "  <svg xmlns=\"http://www.w3.org/2000/svg\" height=\"24px\"viewBox=\"0 0 24 24\"\n",
              "       width=\"24px\">\n",
              "    <path d=\"M0 0h24v24H0V0z\" fill=\"none\"/>\n",
              "    <path d=\"M18.56 5.44l.94 2.06.94-2.06 2.06-.94-2.06-.94-.94-2.06-.94 2.06-2.06.94zm-11 1L8.5 8.5l.94-2.06 2.06-.94-2.06-.94L8.5 2.5l-.94 2.06-2.06.94zm10 10l.94 2.06.94-2.06 2.06-.94-2.06-.94-.94-2.06-.94 2.06-2.06.94z\"/><path d=\"M17.41 7.96l-1.37-1.37c-.4-.4-.92-.59-1.43-.59-.52 0-1.04.2-1.43.59L10.3 9.45l-7.72 7.72c-.78.78-.78 2.05 0 2.83L4 21.41c.39.39.9.59 1.41.59.51 0 1.02-.2 1.41-.59l7.78-7.78 2.81-2.81c.8-.78.8-2.07 0-2.86zM5.41 20L4 18.59l7.72-7.72 1.47 1.35L5.41 20z\"/>\n",
              "  </svg>\n",
              "      </button>\n",
              "      \n",
              "  <style>\n",
              "    .colab-df-container {\n",
              "      display:flex;\n",
              "      flex-wrap:wrap;\n",
              "      gap: 12px;\n",
              "    }\n",
              "\n",
              "    .colab-df-convert {\n",
              "      background-color: #E8F0FE;\n",
              "      border: none;\n",
              "      border-radius: 50%;\n",
              "      cursor: pointer;\n",
              "      display: none;\n",
              "      fill: #1967D2;\n",
              "      height: 32px;\n",
              "      padding: 0 0 0 0;\n",
              "      width: 32px;\n",
              "    }\n",
              "\n",
              "    .colab-df-convert:hover {\n",
              "      background-color: #E2EBFA;\n",
              "      box-shadow: 0px 1px 2px rgba(60, 64, 67, 0.3), 0px 1px 3px 1px rgba(60, 64, 67, 0.15);\n",
              "      fill: #174EA6;\n",
              "    }\n",
              "\n",
              "    [theme=dark] .colab-df-convert {\n",
              "      background-color: #3B4455;\n",
              "      fill: #D2E3FC;\n",
              "    }\n",
              "\n",
              "    [theme=dark] .colab-df-convert:hover {\n",
              "      background-color: #434B5C;\n",
              "      box-shadow: 0px 1px 3px 1px rgba(0, 0, 0, 0.15);\n",
              "      filter: drop-shadow(0px 1px 2px rgba(0, 0, 0, 0.3));\n",
              "      fill: #FFFFFF;\n",
              "    }\n",
              "  </style>\n",
              "\n",
              "      <script>\n",
              "        const buttonEl =\n",
              "          document.querySelector('#df-5219ff15-db63-429b-97a0-cca15037af30 button.colab-df-convert');\n",
              "        buttonEl.style.display =\n",
              "          google.colab.kernel.accessAllowed ? 'block' : 'none';\n",
              "\n",
              "        async function convertToInteractive(key) {\n",
              "          const element = document.querySelector('#df-5219ff15-db63-429b-97a0-cca15037af30');\n",
              "          const dataTable =\n",
              "            await google.colab.kernel.invokeFunction('convertToInteractive',\n",
              "                                                     [key], {});\n",
              "          if (!dataTable) return;\n",
              "\n",
              "          const docLinkHtml = 'Like what you see? Visit the ' +\n",
              "            '<a target=\"_blank\" href=https://colab.research.google.com/notebooks/data_table.ipynb>data table notebook</a>'\n",
              "            + ' to learn more about interactive tables.';\n",
              "          element.innerHTML = '';\n",
              "          dataTable['output_type'] = 'display_data';\n",
              "          await google.colab.output.renderOutput(dataTable, element);\n",
              "          const docLink = document.createElement('div');\n",
              "          docLink.innerHTML = docLinkHtml;\n",
              "          element.appendChild(docLink);\n",
              "        }\n",
              "      </script>\n",
              "    </div>\n",
              "  </div>\n",
              "  "
            ]
          },
          "metadata": {},
          "execution_count": 80
        }
      ],
      "source": [
        "estimator =[{'Regressão Linear':lin_scores_rmse.mean(), 'Decision Tree Regressor':np.sqrt(-dtr_scores.mean()), 'Randon Forest Regressor':np.sqrt(-rfr_scores.mean())}]\n",
        "pd.DataFrame(estimator, index=['RMSE']).T"
      ]
    },
    {
      "cell_type": "markdown",
      "source": [
        "Onde pudemos perceber que o modelo Randon Forest Regressor apresentou o menor RMSE, e portanto foi o modelo escolhido para o teste, que apresentou erro de 47093.61621."
      ],
      "metadata": {
        "id": "tYF2Dtf3HGty"
      },
      "id": "tYF2Dtf3HGty"
    },
    {
      "cell_type": "markdown",
      "id": "eaaa7962",
      "metadata": {
        "id": "eaaa7962"
      },
      "source": [
        "# <h1 id='apendice_A'>Apêndice A </h1>"
      ]
    },
    {
      "cell_type": "markdown",
      "id": "3e61ec41",
      "metadata": {
        "id": "3e61ec41"
      },
      "source": [
        "Construiremos uma função para prever o valor do imóvel a partir das entradas:"
      ]
    },
    {
      "cell_type": "code",
      "execution_count": null,
      "id": "ca1b1ecd",
      "metadata": {
        "id": "ca1b1ecd"
      },
      "outputs": [],
      "source": [
        "def predizer_valor():\n",
        "    \n",
        "    longitude = input('Digite a longitude: ')\n",
        "    latitude = input('Digite a latitude: ')\n",
        "    housing_median_age = input('Digite a housing_median_age: ')\n",
        "    total_rooms = input('Digite a total_rooms: ')\n",
        "    total_bedrooms = input('Digite a total_bedrooms: ')\n",
        "    population = input('Digite a households: ')\n",
        "    households = input('Digite a households: ')\n",
        "    median_income = input('Digite a median_income: ')\n",
        "    ocean_proximity = input('Digite a ocean_proximity:')\n",
        "    \n",
        "    casa = pd.DataFrame({'longitude':[longitude], 'latitude':[latitude], 'housing_median_age':[housing_median_age], \n",
        "                     'total_rooms':[total_rooms],'total_bedrooms':[total_bedrooms], 'population':[population],\n",
        "                     'households':[households], 'median_income':[median_income], 'ocean_proximity':[ocean_proximity] })\n",
        "    \n",
        "    x_casa = preprocessor.transform(casa)\n",
        "    \n",
        "    return print(f'O valor da casa é de: {rfr.predict(x_casa)[0]}')\n",
        "    "
      ]
    },
    {
      "cell_type": "markdown",
      "source": [
        "Ao executar essa função, será solicitado do usuário que forneça todas as infomações, e em seguida será retornado o valor do imóvel."
      ],
      "metadata": {
        "id": "EhkFjEqyYgEE"
      },
      "id": "EhkFjEqyYgEE"
    },
    {
      "cell_type": "code",
      "execution_count": null,
      "id": "54179c45",
      "metadata": {
        "id": "54179c45"
      },
      "outputs": [],
      "source": [
        "predizer_valor()"
      ]
    },
    {
      "cell_type": "markdown",
      "source": [
        "# <h1 id='apendice_B'>Apêndice B </h1>"
      ],
      "metadata": {
        "id": "bY55t5i1OPtI"
      },
      "id": "bY55t5i1OPtI"
    },
    {
      "cell_type": "markdown",
      "source": [
        "Vamos salvar o modelo para futuro deployment."
      ],
      "metadata": {
        "id": "JsFNDkAqOSaX"
      },
      "id": "JsFNDkAqOSaX"
    },
    {
      "cell_type": "code",
      "source": [
        "from joblib import dump, load\n"
      ],
      "metadata": {
        "id": "uRsmZDzbORgj"
      },
      "id": "uRsmZDzbORgj",
      "execution_count": null,
      "outputs": []
    },
    {
      "cell_type": "code",
      "source": [
        "dump(rfr, 'RFR_california_houses.joblib') "
      ],
      "metadata": {
        "colab": {
          "base_uri": "https://localhost:8080/"
        },
        "id": "Fplfx5mHOwH1",
        "outputId": "ab583b11-cfc5-47b6-b2fc-f059e110a486"
      },
      "id": "Fplfx5mHOwH1",
      "execution_count": null,
      "outputs": [
        {
          "output_type": "execute_result",
          "data": {
            "text/plain": [
              "['RFR_california_houses.joblib']"
            ]
          },
          "metadata": {},
          "execution_count": 106
        }
      ]
    }
  ],
  "metadata": {
    "kernelspec": {
      "display_name": "Python 3 (ipykernel)",
      "language": "python",
      "name": "python3"
    },
    "language_info": {
      "codemirror_mode": {
        "name": "ipython",
        "version": 3
      },
      "file_extension": ".py",
      "mimetype": "text/x-python",
      "name": "python",
      "nbconvert_exporter": "python",
      "pygments_lexer": "ipython3",
      "version": "3.9.12"
    },
    "colab": {
      "provenance": [],
      "include_colab_link": true
    }
  },
  "nbformat": 4,
  "nbformat_minor": 5
}